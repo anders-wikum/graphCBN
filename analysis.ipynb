{
 "cells": [
  {
   "cell_type": "code",
   "execution_count": 2,
   "metadata": {},
   "outputs": [],
   "source": [
    "from min_cost_flow import successive_shortest_paths\n",
    "from data_parsing import parse, build_network"
   ]
  },
  {
   "cell_type": "code",
   "execution_count": 25,
   "metadata": {},
   "outputs": [],
   "source": [
    "file = './data/raw/netgen_38.txt'\n",
    "nodes, edges = parse(file)\n",
    "N = build_network(nodes, edges)\n",
    "pred = [-16.4038, -16.4038,  -0.4038,   5.5962,  -0.4038,   1.5962,  -1.4038,\n",
    "          4.5962,  -7.4038,  -3.4038,   3.5962,   7.5962,  -6.4038,  -6.4038,\n",
    "          0.5962,   2.5962,   7.5962,  -1.4038,   5.5962,   3.5962,   4.5962,\n",
    "         -2.4038,  -9.4038,  -1.4038,  -5.4038,   0.5962,  -7.4038,  -2.4038,\n",
    "          5.5962,  -0.4038,   0.5962,   0.5962,  -2.4038,   6.5962,  -4.4038,\n",
    "          3.5962, -12.4038,   3.5962,  -7.4038,  -1.4038,   9.5962,   3.5962,\n",
    "          0.5962,   7.5962,   0.5962,  -5.4038,   9.5962,   6.5962,  10.5962,\n",
    "         10.5962, -16.4038,  10.5962]\n",
    "p_test = dict(zip(N.V, pred))"
   ]
  },
  {
   "cell_type": "code",
   "execution_count": 26,
   "metadata": {},
   "outputs": [
    {
     "name": "stdout",
     "output_type": "stream",
     "text": [
      "500\n",
      "Iteration: 1\n",
      "Iteration: 2\n",
      "Iteration: 3\n",
      "Iteration: 4\n",
      "Iteration: 5\n",
      "Iteration: 6\n",
      "Iteration: 7\n",
      "Iteration: 8\n",
      "Iteration: 9\n",
      "Iteration: 10\n",
      "Iteration: 11\n",
      "Iteration: 12\n",
      "Iteration: 13\n",
      "Iteration: 14\n",
      "Iteration: 15\n",
      "Iteration: 16\n",
      "Iteration: 17\n",
      "Iteration: 18\n",
      "Iteration: 19\n",
      "10007\n"
     ]
    }
   ],
   "source": [
    "f, p, opt = successive_shortest_paths(N)\n",
    "print(opt)"
   ]
  },
  {
   "cell_type": "code",
   "execution_count": 27,
   "metadata": {},
   "outputs": [
    {
     "name": "stdout",
     "output_type": "stream",
     "text": [
      "Number of negative cost admissible edges: 2\n",
      "472\n",
      "Iteration: 1\n",
      "Iteration: 2\n",
      "Iteration: 3\n",
      "Iteration: 4\n",
      "Iteration: 5\n",
      "Iteration: 6\n",
      "Iteration: 7\n",
      "Iteration: 8\n",
      "Iteration: 9\n",
      "Iteration: 10\n",
      "Iteration: 11\n",
      "Iteration: 12\n",
      "Iteration: 13\n",
      "Iteration: 14\n",
      "Iteration: 15\n",
      "Iteration: 16\n",
      "Iteration: 17\n",
      "10007\n"
     ]
    }
   ],
   "source": [
    "f2, p2, opt2 = successive_shortest_paths(N, p=p_test)\n",
    "print(opt2)"
   ]
  },
  {
   "cell_type": "code",
   "execution_count": null,
   "metadata": {},
   "outputs": [],
   "source": []
  }
 ],
 "metadata": {
  "kernelspec": {
   "display_name": "base",
   "language": "python",
   "name": "python3"
  },
  "language_info": {
   "codemirror_mode": {
    "name": "ipython",
    "version": 3
   },
   "file_extension": ".py",
   "mimetype": "text/x-python",
   "name": "python",
   "nbconvert_exporter": "python",
   "pygments_lexer": "ipython3",
   "version": "3.9.16"
  },
  "orig_nbformat": 4
 },
 "nbformat": 4,
 "nbformat_minor": 2
}
