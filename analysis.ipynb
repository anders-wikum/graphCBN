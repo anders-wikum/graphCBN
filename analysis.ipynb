{
 "cells": [
  {
   "cell_type": "code",
   "execution_count": 5,
   "metadata": {},
   "outputs": [],
   "source": [
    "from min_cost_flow import successive_shortest_paths\n",
    "from data_parsing import parse, build_network"
   ]
  },
  {
   "cell_type": "code",
   "execution_count": 6,
   "metadata": {},
   "outputs": [],
   "source": [
    "file = './data/raw/netgen_0.txt'\n",
    "nodes, edges = parse(file)\n",
    "N = build_network(nodes, edges)\n",
    "pred = [8.215031,\n",
    " 10.100032,\n",
    " 12.146387,\n",
    " 10.743812,\n",
    " 19.582367,\n",
    " 20.309256,\n",
    " 20.102245,\n",
    " 20.870274,\n",
    " 31.996864,\n",
    " 29.833378,\n",
    " 8.809714,\n",
    " 29.607418]\n",
    "\n",
    "p_test = dict(zip(N.V, pred))"
   ]
  },
  {
   "cell_type": "code",
   "execution_count": 7,
   "metadata": {},
   "outputs": [
    {
     "name": "stdout",
     "output_type": "stream",
     "text": [
      "200\n",
      "Iteration: 1\n",
      "Iteration: 2\n",
      "Iteration: 3\n",
      "Iteration: 4\n",
      "Iteration: 5\n",
      "Iteration: 6\n",
      "3310\n"
     ]
    }
   ],
   "source": [
    "f, p, opt = successive_shortest_paths(N)\n",
    "print(opt)"
   ]
  },
  {
   "cell_type": "code",
   "execution_count": 8,
   "metadata": {},
   "outputs": [
    {
     "name": "stdout",
     "output_type": "stream",
     "text": [
      "Number of negative cost admissible edges: 3\n",
      "326\n",
      "Iteration: 1\n",
      "Iteration: 2\n",
      "Iteration: 3\n",
      "Iteration: 4\n",
      "Iteration: 5\n",
      "3310\n"
     ]
    }
   ],
   "source": [
    "f2, p2, opt2 = successive_shortest_paths(N, p=p_test)\n",
    "print(opt2)"
   ]
  },
  {
   "cell_type": "code",
   "execution_count": null,
   "metadata": {},
   "outputs": [],
   "source": []
  }
 ],
 "metadata": {
  "kernelspec": {
   "display_name": "base",
   "language": "python",
   "name": "python3"
  },
  "language_info": {
   "codemirror_mode": {
    "name": "ipython",
    "version": 3
   },
   "file_extension": ".py",
   "mimetype": "text/x-python",
   "name": "python",
   "nbconvert_exporter": "python",
   "pygments_lexer": "ipython3",
   "version": "3.9.16"
  },
  "orig_nbformat": 4
 },
 "nbformat": 4,
 "nbformat_minor": 2
}
