{
 "cells": [
  {
   "cell_type": "code",
   "execution_count": null,
   "metadata": {},
   "outputs": [],
   "source": [
    "from min_cost_flow import successive_shortest_paths\n",
    "from data_parsing import parse, build_network"
   ]
  },
  {
   "cell_type": "code",
   "execution_count": null,
   "metadata": {},
   "outputs": [],
   "source": [
    "file = './data/raw/netgen_0.txt'\n",
    "nodes, edges = parse(file)\n",
    "N = build_network(nodes, edges)\n",
    "pred = [-1.00000124e+00, -1.00000123e+00, -3.00000125e+00, -4.00000124e+00,\n",
    "        6.99999875e+00,  2.99999876e+00, -1.24844210e-06,  9.99998751e-01,\n",
    "       -2.00000123e+00,  2.99999874e+00,  9.99998750e-01, -1.24599788e-06,\n",
    "       -1.00000123e+00, -3.00000123e+00,  9.99998754e-01, -1.21549330e-06,\n",
    "       -1.00000012e+01, -1.24176118e-06, -3.00000123e+00, -1.24928996e-06,\n",
    "       -4.00000125e+00, -4.00000124e+00,  3.99999876e+00, -3.00000124e+00,\n",
    "       -2.00000124e+00, -1.24794725e-06, -1.20494712e-06, -1.24348360e-06,\n",
    "        4.99999875e+00, -2.00000125e+00,  1.99999877e+00, -5.00000124e+00,\n",
    "       -4.00000125e+00, -1.00000125e+00, -4.00000121e+00,  9.99998765e-01,\n",
    "        2.99999875e+00, -5.00000125e+00, -3.00000126e+00,  2.99999875e+00,\n",
    "       -2.00000125e+00, -1.23812947e-06,  2.99999875e+00,  5.99999876e+00,\n",
    "        9.99998759e-01,  5.99999875e+00,  9.99998752e-01, -3.00000124e+00,\n",
    "        1.99999876e+00, -1.00000125e+00,  9.99998763e-01,  9.99998757e-01,\n",
    "       -8.00000123e+00,  1.99999876e+00, -3.00000123e+00,  9.99998750e-01,\n",
    "       -1.00000125e+00,  2.99999877e+00, -1.14086707e-06, -1.00000123e+00,\n",
    "       -3.00000125e+00, -3.00000125e+00,  9.99998762e-01,  1.99999875e+00,\n",
    "       -7.00000124e+00,  4.99999875e+00,  5.99999875e+00, -1.00000125e+00,\n",
    "       -3.00000121e+00,  3.99999875e+00,  4.99999876e+00, -1.25008394e-06,\n",
    "        4.99999875e+00,  4.99999876e+00,  2.99999877e+00, -1.00000123e+00,\n",
    "        4.99999875e+00]\n",
    "\n",
    "p_test = dict(zip(N.V, pred))"
   ]
  },
  {
   "cell_type": "code",
   "execution_count": null,
   "metadata": {},
   "outputs": [],
   "source": [
    "f, p, opt = successive_shortest_paths(N)\n",
    "print(opt)"
   ]
  },
  {
   "cell_type": "code",
   "execution_count": null,
   "metadata": {},
   "outputs": [],
   "source": [
    "f2, p2, opt2 = successive_shortest_paths(N, p=p_test)\n",
    "print(opt2)"
   ]
  },
  {
   "cell_type": "code",
   "execution_count": null,
   "metadata": {},
   "outputs": [],
   "source": []
  }
 ],
 "metadata": {
  "kernelspec": {
   "display_name": "base",
   "language": "python",
   "name": "python3"
  },
  "language_info": {
   "codemirror_mode": {
    "name": "ipython",
    "version": 3
   },
   "file_extension": ".py",
   "mimetype": "text/x-python",
   "name": "python",
   "nbconvert_exporter": "python",
   "pygments_lexer": "ipython3",
   "version": "3.9.16"
  },
  "orig_nbformat": 4
 },
 "nbformat": 4,
 "nbformat_minor": 2
}
