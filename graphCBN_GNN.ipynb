{
   "cells": [
      {
         "cell_type": "code",
         "execution_count": 1,
         "metadata": {
            "collapsed": false
         },
         "outputs": [
            {
               "name": "stdout",
               "output_type": "stream",
               "text": [
                  "PyTorch has version 1.13.1+cu117\n",
                  "Using device: cuda\n",
                  "\n"
               ]
            }
         ],
         "source": [
            "import torch\n",
            "from matplotlib import pyplot as plt\n",
            "\n",
            "print(\"PyTorch has version {}\".format(torch.__version__))\n",
            "import torch.nn as nn\n",
            "import torch.optim as optim\n",
            "import torch.nn.functional as F\n",
            "\n",
            "import numpy as np\n",
            "import os\n",
            "import shutil\n",
            "\n",
            "from tqdm import trange\n",
            "import copy\n",
            "\n",
            "from torch_geometric.loader import DataLoader\n",
            "\n",
            "torch.manual_seed(1)\n",
            "np.random.seed(1)\n",
            "device = torch.device('cuda' if torch.cuda.is_available() else 'cpu')\n",
            "print('Using device:', device)\n",
            "print()"
         ]
      },
      {
         "cell_type": "markdown",
         "metadata": {
            "collapsed": false
         },
         "source": [
            "## Graph generation\n",
            "Here, we generate many graphs in the DIMACS minimum cost flow structure. Any minimum cost flow problem in this representation can be used for training.\n",
            "More specifics on the file representation: [DIMACS minimum cost flow problem structure](https://lpsolve.sourceforge.net/5.5/DIMACS_mcf.htm)"
         ]
      },
      {
         "cell_type": "code",
         "execution_count": 2,
         "metadata": {
            "collapsed": false
         },
         "outputs": [
            {
               "name": "stdout",
               "output_type": "stream",
               "text": [
                  "Generating 1000 min cost flow graphs\n",
                  "Done!\n"
               ]
            }
         ],
         "source": [
            "from graph_generator import generate_min_cost_flow_graphs\n",
            "\n",
            "generate_min_cost_flow_graphs(num = 1000, dst_folder = \"./data/raw\")"
         ]
      },
      {
         "attachments": {},
         "cell_type": "markdown",
         "metadata": {
            "collapsed": false
         },
         "source": [
            "## Pytorch geometric dataset\n",
            "The MinCostDataset class is a custom pytorch geometric dataset class that allows us to transform networks from the DIMACS problem structure into the graph format expected by PyG. By running this cell, network txt files in the root folder will be automatically processed and stored in `./data/processed/`."
         ]
      },
      {
         "cell_type": "code",
         "execution_count": 3,
         "metadata": {
            "collapsed": false
         },
         "outputs": [],
         "source": [
            "from MinCostDataset import MinCostDataset\n",
            "\n",
            "dataset = MinCostDataset(root = \"./data/\")"
         ]
      },
      {
         "cell_type": "code",
         "execution_count": 4,
         "metadata": {
            "collapsed": false
         },
         "outputs": [
            {
               "name": "stdout",
               "output_type": "stream",
               "text": [
                  "number of graphs: 1000\n",
                  "number of node features: 1\n",
                  "number of edge features: 2\n",
                  "first graph: Data(x=[52, 1], edge_index=[2, 113], edge_attr=[113, 2], y=[52, 2], reduced_cost=[113, 2], filename='netgen_249.txt')\n"
               ]
            }
         ],
         "source": [
            "def dataset_information(dataset):\n",
            "    \"\"\"Print some basic information about the dataset\"\"\"\n",
            "    print(f\"number of graphs: {dataset.len()}\")\n",
            "    print(f\"number of node features: {dataset.num_features}\")\n",
            "    print(f\"number of edge features: {dataset.num_edge_features}\")\n",
            "    print(f\"first graph: {dataset[0]}\")\n",
            "\n",
            "dataset_information(dataset)"
         ]
      },
      {
         "attachments": {},
         "cell_type": "markdown",
         "metadata": {
            "collapsed": false
         },
         "source": [
            "## Dataset split\n",
            "Since we are not working with a predefined dataset, we have to manually create training, testing, and validation splits. Since we are ultimately trying to make predictions on new, unseen networks, we split at the level of graphs instead of nodes/edges."
         ]
      },
      {
         "cell_type": "code",
         "execution_count": 5,
         "metadata": {
            "collapsed": false
         },
         "outputs": [],
         "source": [
            "def train_test_validation_split(dataset, train = 0.7, validation = 0.15):\n",
            "    \"\"\"\n",
            "    Splits a dataset into a training, validation, and test split. The test fraction is 1 - train - validation.\n",
            "    Similar to sklearn.model_selection.train_test_split with the addition to a validation split.\n",
            "    Args:\n",
            "        dataset: dataset to split\n",
            "        train: fraction of the dataset to allocate to training\n",
            "        validation: fraction of the dataset to allocate to validation\n",
            "\n",
            "    Returns:\n",
            "        An index for each train/validation/test datasets.\n",
            "    \"\"\"\n",
            "    length = dataset.len()\n",
            "    shuffled_dataset = np.arange(length)\n",
            "    np.random.shuffle(shuffled_dataset)\n",
            "\n",
            "    train_cutoff = int(train * length)\n",
            "    validation_cutoff = int((train + validation) * length)\n",
            "\n",
            "    train_data = shuffled_dataset[:train_cutoff]\n",
            "    validation_data = shuffled_dataset[train_cutoff: validation_cutoff]\n",
            "    test_data = shuffled_dataset[validation_cutoff:]\n",
            "\n",
            "    return train_data, validation_data, test_data"
         ]
      },
      {
         "cell_type": "code",
         "execution_count": 6,
         "metadata": {
            "collapsed": false
         },
         "outputs": [],
         "source": [
            "def create_split_directories(dataset, split, split_name):\n",
            "    \"\"\"\n",
            "    Creates a new directory for the dataset and saves each corresponding file into it.\n",
            "    Args:\n",
            "        dataset: dataset from which to copy the files\n",
            "        split: indices of the files to move to the new directory\n",
            "        split_name: name of the new directory\n",
            "    \"\"\"\n",
            "\n",
            "    src_folder = dataset.processed_dir\n",
            "    dst_folder = os.path.join(dataset.root, split_name)\n",
            "\n",
            "    # Remove files in case some were already present\n",
            "    if os.path.exists(dst_folder):\n",
            "        shutil.rmtree(dst_folder)\n",
            "    os.makedirs(dst_folder)\n",
            "\n",
            "    # Files are always expected by PyG to be ordered from 0 to length of the dataset so we have to\n",
            "    # reorder them in the new directory\n",
            "    dst_index = 0\n",
            "    for file_id in split:\n",
            "        src_file_name = f\"data_{file_id}.pt\"\n",
            "        dst_file_name = f\"data_{dst_index}.pt\"\n",
            "        src = os.path.join(src_folder, src_file_name)\n",
            "        dst = os.path.join(dst_folder, dst_file_name)\n",
            "        shutil.copyfile(src, dst)\n",
            "        dst_index += 1\n",
            "\n",
            "def split_dataset(dataset, train_frac = 0.7, validation_frac = 0.15):\n",
            "    \"\"\"\n",
            "    Partitions a dataset into 3 folders: data_train, data_test, data_validation such that each contains\n",
            "    a certain fraction of the graphs.\n",
            "    Args:\n",
            "        dataset: dataset to split\n",
            "        train_frac: fraction of the graphs to put into the training folder\n",
            "        validation_frac: fraction of the graphs ot put into the validation folder\n",
            "    Note: test_frac is implicitly defined as 1 - train_frac - validation frac\n",
            "    \"\"\"\n",
            "\n",
            "    train, validation, test = train_test_validation_split(dataset, train_frac, validation_frac)\n",
            "    create_split_directories(dataset, train, \"data_train/processed\")\n",
            "    create_split_directories(dataset, test, \"data_test/processed\")\n",
            "    create_split_directories(dataset, validation, \"data_validation/processed\")\n",
            "\n",
            "\n",
            "split_dataset(dataset, train_frac = 0.7, validation_frac = 0.15)"
         ]
      },
      {
         "attachments": {},
         "cell_type": "markdown",
         "metadata": {
            "collapsed": false
         },
         "source": [
            "## Loss functions\n",
            "We define the different loss functions we have experimented with for learning duals. The first (DualLoss) pools over all predicted node potentials (a scalar value predicted for each node) then computes the objective value of the dual in the graph. The corresponding formula comes directly from the objective of the Lagrangian dual problem for MCF:\n",
            "$$\\widehat{\\text{OPT}} = -\\sum_{i \\in V} b_i\\hat{y}_i - \\sum_{(i,j) \\in E} u_{ij} \\cdot \\max(0, \\hat{y}_j - \\hat{y}_i - c_{ij})$$\n",
            "Loss is then computed by:\n",
            "$$\\text{LOSS} (\\text{OPT}, \\widehat{\\text{OPT}}) = \\text{OPT} - \\widehat{\\text{OPT}}$$\n",
            "Notice that we don't add a norm on the substraction since, by weak duality $\\text{LOSS}(\\text{OPT}, \\widehat{\\text{OPT}}) \\geq 0$ with $\\text{LOSS}(\\text{OPT}, \\widehat{\\text{OPT}}) = 0$ if and only if $\\hat{y}$ is a dual-optimal solution.\n"
         ]
      },
      {
         "cell_type": "code",
         "execution_count": 7,
         "metadata": {
            "collapsed": false
         },
         "outputs": [],
         "source": [
            "class DualLoss(nn.Module):\n",
            "    \"\"\"\n",
            "    This loss function computes the objective value of the learned duals following the above formula with an optional regularization factor.\n",
            "    \"\"\"\n",
            "\n",
            "    def __init__(self):\n",
            "        super(DualLoss, self).__init__()\n",
            "\n",
            "    def forward(self, pred, label, x, edge_index, edge_attr, gamma = 0.0005):\n",
            "        \"\"\"\n",
            "        Computes the dual loss\n",
            "        Args:\n",
            "            pred: predicted node potentials\n",
            "            label: optimal dual value in the graphs\n",
            "            x: original node features (we need to know the demand of each node to compute the loss)\n",
            "            edge_index: edge structure of the graph\n",
            "            edge_attr: original edge features (we need to know the cost and capacity of each edge to compute the loss)\n",
            "            gamma: regularization factor to push learned potentials towards more 0 reduced cost edges\n",
            "\n",
            "        Returns:\n",
            "            the corresponding loss value\n",
            "        \"\"\"\n",
            "        reduced_cost = edge_attr[:, 1] + pred[edge_index[0]].squeeze() - pred[edge_index[1]].squeeze()\n",
            "        opt = label[0, 0]  # Optimal dual value in the graph\n",
            "\n",
            "        # PyTorch retranscription of the above equation, notice that the loss is divided by the optimal dual value\n",
            "        # to make it independent of graph size\n",
            "        loss = (opt + torch.dot(pred.squeeze(), x.squeeze()) + torch.dot(edge_attr[:, 0],\n",
            "                                                                             F.relu(-reduced_cost))) / opt\n",
            "\n",
            "        # Add regularization to avoid having too many negative reduced-cost edges\n",
            "        reg = gamma * sum(F.relu(-reduced_cost))\n",
            "\n",
            "        return loss + reg"
         ]
      },
      {
         "cell_type": "markdown",
         "metadata": {
            "collapsed": false
         },
         "source": [
            "#### Edge reduced cost loss\n",
            "Instead of trying to predict node potential values, here we try to predict if a given edge will have negative reduced cost or positive reduced cost (this information can then used to \"warm-start\" the algorithm). In this case, we are essentially doing edge classification so the loss definition is much simpler, simply computing a weighted cross entropy."
         ]
      },
      {
         "cell_type": "code",
         "execution_count": 8,
         "metadata": {
            "collapsed": false
         },
         "outputs": [],
         "source": [
            "class EdgeReducedCostLoss(nn.Module):\n",
            "    def __init__(self, weight = None):\n",
            "        \"\"\"\n",
            "        Args:\n",
            "            weight: weighs the different classes differently, useful for an unbalanced dataset (which is the case here)\n",
            "        \"\"\"\n",
            "        super(EdgeReducedCostLoss, self).__init__()\n",
            "        self.loss_fn = nn.CrossEntropyLoss(weight = weight)\n",
            "\n",
            "    def forward(self, preds, labels):\n",
            "        return self.loss_fn(preds, labels)\n"
         ]
      },
      {
         "cell_type": "markdown",
         "metadata": {
            "collapsed": false
         },
         "source": [
            "#### Potential loss\n",
            "This loss function is most similar to the first one (DualLoss). However, here, instead of learning duals such that their objective value is close to optimal, we learn dual values that are close to a set of optimal dual values. This transforms the task from a graph-level regression to a node-level regression.\n",
            "\n",
            "We note that this approach may seem theoretically unsound, there are indeed several possible sets of optimal dual values possible, all attaining optimal objective value so learning exactly one set seems illogical. However, empirically, this method is the one that works best. From experiments, it seems to be because DualLoss had a much higher noise to signal ratio. This makes sense intuitively, here we predict one value per node whereas in DualLoss, we essentially predict one value for the entire graph then expect to backpropagate this single scalar value to the thousands of parameters in the GNN."
         ]
      },
      {
         "cell_type": "code",
         "execution_count": 9,
         "metadata": {
            "collapsed": false
         },
         "outputs": [],
         "source": [
            "class PotentialLoss(nn.Module):\n",
            "    \"\"\"\n",
            "    Simplest loss: it just returns the L1 difference between a set of optimal dual values (that is, a scalar value per node in the graph)\n",
            "    and the computed duals\n",
            "    \"\"\"\n",
            "\n",
            "    def __init__(self):\n",
            "        super(PotentialLoss, self).__init__()\n",
            "\n",
            "    def forward(self, preds, labels):\n",
            "        return torch.linalg.vector_norm(preds.squeeze() - labels, ord = 1)"
         ]
      },
      {
         "cell_type": "code",
         "execution_count": 10,
         "metadata": {
            "collapsed": false
         },
         "outputs": [],
         "source": [
            "def accuracy(preds, labels):\n",
            "    \"\"\"\n",
            "    For edge-level classification, computes the accuracy of the predictions\n",
            "    Args:\n",
            "        preds: predicted edge classes\n",
            "        labels: ground truth edge classes\n",
            "    \"\"\"\n",
            "    predicted_classes = torch.argmax(preds, dim = 1)\n",
            "    label_values = torch.argmax(labels, dim = 1)\n",
            "\n",
            "    # True positives for edges with negative reduced cost\n",
            "    count1 = predicted_classes[predicted_classes == label_values == 0]\n",
            "    accuracy1 = predicted_classes.sum() / label_values[label_values == 0].sum()\n",
            "\n",
            "    # True positives for edges with positive (>= 0) reduced cost\n",
            "    count2 = predicted_classes[predicted_classes == label_values == 1]\n",
            "    accuracy2 = predicted_classes.sum() / label_values[label_values == 1].sum()\n",
            "\n",
            "    # Prints the percentage of\n",
            "    print(f\"predicted % for class 0/neg: {accuracy1 * 100}\")\n",
            "    print(f\"predicted % for class 1/pos: {accuracy2 * 100}\")\n",
            "\n",
            "    accuracy = torch.mean(torch.where(predicted_classes == label_values, 1, 0).float()).item()\n",
            "\n",
            "    return round(accuracy, 4)"
         ]
      },
      {
         "cell_type": "markdown",
         "metadata": {
            "collapsed": false
         },
         "source": [
            "## Model definition"
         ]
      },
      {
         "cell_type": "code",
         "execution_count": 11,
         "metadata": {
            "collapsed": false
         },
         "outputs": [],
         "source": [
            "def build_optimizer(args, params):\n",
            "    \"\"\"\n",
            "    Builds an optimizer according to the given parameters. From Colab 2:\n",
            "    https://colab.research.google.com/drive/1xHmpjVO-Z74NK-dH3qoUBTf-tKUPfOKW?usp=sharing\n",
            "    \"\"\"\n",
            "\n",
            "    weight_decay = args.weight_decay\n",
            "    filter_fn = filter(lambda p: p.requires_grad, params)\n",
            "    if args.opt == 'adam':\n",
            "        optimizer = optim.Adam(filter_fn, lr = args.lr, weight_decay = weight_decay)\n",
            "    elif args.opt == 'sgd':\n",
            "        optimizer = optim.SGD(filter_fn, lr = args.lr, momentum = 0.95, weight_decay = weight_decay)\n",
            "    elif args.opt == 'rmsprop':\n",
            "        optimizer = optim.RMSprop(filter_fn, lr = args.lr, weight_decay = weight_decay)\n",
            "    elif args.opt == 'adagrad':\n",
            "        optimizer = optim.Adagrad(filter_fn, lr = args.lr, weight_decay = weight_decay)\n",
            "    if args.opt_scheduler == 'none':\n",
            "        return None, optimizer\n",
            "    elif args.opt_scheduler == 'step':\n",
            "        scheduler = optim.lr_scheduler.StepLR(optimizer, step_size = args.opt_decay_step, gamma = args.opt_decay_rate)\n",
            "    elif args.opt_scheduler == 'cos':\n",
            "        scheduler = optim.lr_scheduler.CosineAnnealingLR(optimizer, T_max = args.opt_restart)\n",
            "    return scheduler, optimizer"
         ]
      },
      {
         "cell_type": "code",
         "execution_count": 17,
         "metadata": {
            "collapsed": false
         },
         "outputs": [],
         "source": [
            "class objectview(object):\n",
            "    def __init__(self, d):\n",
            "        self.__dict__ = d\n",
            "\n",
            "# args defines the model and training hyperparameters\n",
            "args = {\n",
            "    'num_layers':    10,\n",
            "    'batch_size':    10,\n",
            "    'hidden_dim':    32,\n",
            "    'heads':         4,\n",
            "    'predict_edges': False,\n",
            "    'dropout':       0.5,\n",
            "    'epochs':        100,\n",
            "    'opt':           'adam',\n",
            "    'opt_scheduler': 'none',\n",
            "    'opt_restart':   0,\n",
            "    'weight_decay':  5e-3,\n",
            "    'lr':            0.001,\n",
            "    'model_type':    \"GAT\"\n",
            "}\n",
            "args = objectview(args)"
         ]
      },
      {
         "cell_type": "code",
         "execution_count": 18,
         "metadata": {
            "collapsed": false
         },
         "outputs": [],
         "source": [
            "from gnn_models.CBN_NNConv import CBN_NNConv\n",
            "from gnn_models.CBN_GAT import CBN_GAT\n",
            "\n",
            "# To make batching easier, we define 2 data loaders, one for training, one for testing\n",
            "train_loader = DataLoader(MinCostDataset(root = \"./data/data_train\"), batch_size = args.batch_size, shuffle = True)\n",
            "test_loader = DataLoader(MinCostDataset(root = \"./data/data_test\"), batch_size = args.batch_size, shuffle = True)\n",
            "\n",
            "def train(args):\n",
            "    \"\"\"\n",
            "    Trains a GNN model, periodically testing it and accumulating loss values\n",
            "    Args:\n",
            "        args: dictionary object containing training parameters\n",
            "    \"\"\"\n",
            "\n",
            "    # Input dimension is 1 (we only have demand information for every node)\n",
            "    # Edge feature dimension is 2 (capacity and cost per edge)\n",
            "    # Output dimension is 1 since we predict scalar potential values for each vertex\n",
            "    if args.model_type == \"GAT\":\n",
            "        model = CBN_GAT(1, 1, 2, args)\n",
            "    else:\n",
            "        model = CBN_NNConv(1, 1, 2, args)\n",
            "\n",
            "    if args.predict_edges:\n",
            "        loss_fn = EdgeReducedCostLoss()\n",
            "    else:\n",
            "        loss_fn = PotentialLoss()\n",
            "\n",
            "    scheduler, opt = build_optimizer(args, model.parameters())\n",
            "    model.to(device)\n",
            "\n",
            "    # accumulate model performance for plotting\n",
            "    losses = []\n",
            "    train_accs = []\n",
            "    test_accs = []\n",
            "    test_losses = []\n",
            "    best_loss = None\n",
            "    best_model = None\n",
            "\n",
            "    for epoch in trange(args.epochs, desc = \"Training\", unit = \"Epochs\"):\n",
            "        total_loss = 0\n",
            "        total_accuracy = 0\n",
            "        model.train()\n",
            "\n",
            "        for batch in train_loader:\n",
            "            batch.to(device)\n",
            "            opt.zero_grad()\n",
            "            pred = model(batch.x, batch.edge_index, batch.edge_attr)\n",
            "\n",
            "            if args.predict_edges:\n",
            "                # For case of edge prediction, we classify edges according to their reduced cost\n",
            "                loss = loss_fn(pred, batch.reduced_cost)\n",
            "            else:\n",
            "                # For node potential prediction, we perform regression onto optimal potential values\n",
            "                # (contained in batch.y[:, 1]\n",
            "                loss = loss_fn(pred, batch.y[:, 1])\n",
            "\n",
            "            loss.backward()\n",
            "            opt.step()\n",
            "\n",
            "            if args.predict_edges:\n",
            "                # Accuracy only is computed for the classification task\n",
            "                total_accuracy += model.accuracy(pred, batch.reduced_cost) * batch.num_graphs\n",
            "            total_loss += loss.item() * batch.num_graphs\n",
            "        total_loss /= len(train_loader.dataset)\n",
            "        total_accuracy /= len(train_loader.dataset)\n",
            "        losses.append(total_loss)\n",
            "        train_accs.append(total_accuracy)\n",
            "\n",
            "        if epoch % 10 == 0:\n",
            "            test_acc, test_loss = test(test_loader, model, loss_fn, args)\n",
            "            test_accs.append(test_acc)\n",
            "            test_losses.append(test_loss)\n",
            "            if best_loss is None or test_loss < best_loss:\n",
            "                best_loss = test_loss\n",
            "                best_model = copy.deepcopy(model)\n",
            "        else:\n",
            "            test_accs.append(test_accs[-1])\n",
            "            test_losses.append(test_losses[-1])\n",
            "\n",
            "    return test_accs, test_losses, losses, train_accs, best_model, best_loss\n",
            "\n",
            "\n",
            "def test(loader, test_model, loss_fn, args):\n",
            "    test_model.eval()\n",
            "    test_model.to(device)\n",
            "    total_accuracy = 0\n",
            "    total_loss = 0\n",
            "\n",
            "    for batch in loader:\n",
            "        batch.to(device)\n",
            "        with torch.no_grad():\n",
            "            pred = test_model(batch.x, batch.edge_index, batch.edge_attr)\n",
            "\n",
            "            if args.predict_edges:\n",
            "                # For case of edge prediction, we classify edges according to their reduced cost\n",
            "                loss = loss_fn(pred, batch.reduced_cost)\n",
            "            else:\n",
            "                # For node potential prediction, we perform regression onto optimal potential values\n",
            "                # (contained in batch.y[:, 1]\n",
            "                loss = loss_fn(pred, batch.y[:, 1])\n",
            "\n",
            "            if args.predict_edges:\n",
            "                total_accuracy += test_model.accuracy(pred, batch.reduced_cost) * batch.num_graphs\n",
            "\n",
            "            total_loss += loss * batch.num_graphs\n",
            "\n",
            "\n",
            "    total_accuracy /= len(test_loader.dataset)\n",
            "    total_loss /= len(test_loader.dataset)\n",
            "\n",
            "    return total_accuracy, total_loss\n"
         ]
      },
      {
         "cell_type": "code",
         "execution_count": 19,
         "metadata": {
            "collapsed": false
         },
         "outputs": [
            {
               "name": "stderr",
               "output_type": "stream",
               "text": [
                  "Training: 100%|██████████| 100/100 [10:24<00:00,  6.25s/Epochs]\n"
               ]
            },
            {
               "name": "stdout",
               "output_type": "stream",
               "text": [
                  "Maximum test set accuracy: 0.0\n",
                  "Maximum training set accuracy: 0.0\n",
                  "Minimum loss: 6286.23650251116\n",
                  "Minimum test loss: 5914.5107421875\n",
                  "\n"
               ]
            },
            {
               "ename": "TypeError",
               "evalue": "can't convert cuda:0 device type tensor to numpy. Use Tensor.cpu() to copy the tensor to host memory first.",
               "output_type": "error",
               "traceback": [
                  "\u001b[0;31m---------------------------------------------------------------------------\u001b[0m",
                  "\u001b[0;31mTypeError\u001b[0m                                 Traceback (most recent call last)",
                  "Cell \u001b[0;32mIn[19], line 16\u001b[0m\n\u001b[1;32m     13\u001b[0m     plt\u001b[39m.\u001b[39msubplot(\u001b[39m1\u001b[39m, \u001b[39m2\u001b[39m, \u001b[39m1\u001b[39m)\n\u001b[1;32m     15\u001b[0m plt\u001b[39m.\u001b[39mplot(losses, label \u001b[39m=\u001b[39m \u001b[39m\"\u001b[39m\u001b[39mtraining loss\u001b[39m\u001b[39m\"\u001b[39m \u001b[39m+\u001b[39m \u001b[39m\"\u001b[39m\u001b[39m - \u001b[39m\u001b[39m\"\u001b[39m \u001b[39m+\u001b[39m args\u001b[39m.\u001b[39mmodel_type, color \u001b[39m=\u001b[39m \u001b[39m'\u001b[39m\u001b[39mred\u001b[39m\u001b[39m'\u001b[39m, linestyle \u001b[39m=\u001b[39m \u001b[39m'\u001b[39m\u001b[39msolid\u001b[39m\u001b[39m'\u001b[39m)\n\u001b[0;32m---> 16\u001b[0m plt\u001b[39m.\u001b[39;49mplot(test_losses, label \u001b[39m=\u001b[39;49m \u001b[39m\"\u001b[39;49m\u001b[39mtest loss\u001b[39;49m\u001b[39m\"\u001b[39;49m \u001b[39m+\u001b[39;49m \u001b[39m\"\u001b[39;49m\u001b[39m - \u001b[39;49m\u001b[39m\"\u001b[39;49m \u001b[39m+\u001b[39;49m args\u001b[39m.\u001b[39;49mmodel_type, color \u001b[39m=\u001b[39;49m \u001b[39m'\u001b[39;49m\u001b[39mgreen\u001b[39;49m\u001b[39m'\u001b[39;49m, linestyle \u001b[39m=\u001b[39;49m \u001b[39m'\u001b[39;49m\u001b[39msolid\u001b[39;49m\u001b[39m'\u001b[39;49m)\n\u001b[1;32m     17\u001b[0m plt\u001b[39m.\u001b[39mlegend()\n\u001b[1;32m     19\u001b[0m \u001b[39mif\u001b[39;00m args\u001b[39m.\u001b[39mpredict_edges:\n",
                  "File \u001b[0;32m~/miniconda3/lib/python3.9/site-packages/matplotlib/pyplot.py:2812\u001b[0m, in \u001b[0;36mplot\u001b[0;34m(scalex, scaley, data, *args, **kwargs)\u001b[0m\n\u001b[1;32m   2810\u001b[0m \u001b[39m@_copy_docstring_and_deprecators\u001b[39m(Axes\u001b[39m.\u001b[39mplot)\n\u001b[1;32m   2811\u001b[0m \u001b[39mdef\u001b[39;00m \u001b[39mplot\u001b[39m(\u001b[39m*\u001b[39margs, scalex\u001b[39m=\u001b[39m\u001b[39mTrue\u001b[39;00m, scaley\u001b[39m=\u001b[39m\u001b[39mTrue\u001b[39;00m, data\u001b[39m=\u001b[39m\u001b[39mNone\u001b[39;00m, \u001b[39m*\u001b[39m\u001b[39m*\u001b[39mkwargs):\n\u001b[0;32m-> 2812\u001b[0m     \u001b[39mreturn\u001b[39;00m gca()\u001b[39m.\u001b[39;49mplot(\n\u001b[1;32m   2813\u001b[0m         \u001b[39m*\u001b[39;49margs, scalex\u001b[39m=\u001b[39;49mscalex, scaley\u001b[39m=\u001b[39;49mscaley,\n\u001b[1;32m   2814\u001b[0m         \u001b[39m*\u001b[39;49m\u001b[39m*\u001b[39;49m({\u001b[39m\"\u001b[39;49m\u001b[39mdata\u001b[39;49m\u001b[39m\"\u001b[39;49m: data} \u001b[39mif\u001b[39;49;00m data \u001b[39mis\u001b[39;49;00m \u001b[39mnot\u001b[39;49;00m \u001b[39mNone\u001b[39;49;00m \u001b[39melse\u001b[39;49;00m {}), \u001b[39m*\u001b[39;49m\u001b[39m*\u001b[39;49mkwargs)\n",
                  "File \u001b[0;32m~/miniconda3/lib/python3.9/site-packages/matplotlib/axes/_axes.py:1688\u001b[0m, in \u001b[0;36mAxes.plot\u001b[0;34m(self, scalex, scaley, data, *args, **kwargs)\u001b[0m\n\u001b[1;32m   1445\u001b[0m \u001b[39m\"\"\"\u001b[39;00m\n\u001b[1;32m   1446\u001b[0m \u001b[39mPlot y versus x as lines and/or markers.\u001b[39;00m\n\u001b[1;32m   1447\u001b[0m \n\u001b[0;32m   (...)\u001b[0m\n\u001b[1;32m   1685\u001b[0m \u001b[39m(``'green'``) or hex strings (``'#008000'``).\u001b[39;00m\n\u001b[1;32m   1686\u001b[0m \u001b[39m\"\"\"\u001b[39;00m\n\u001b[1;32m   1687\u001b[0m kwargs \u001b[39m=\u001b[39m cbook\u001b[39m.\u001b[39mnormalize_kwargs(kwargs, mlines\u001b[39m.\u001b[39mLine2D)\n\u001b[0;32m-> 1688\u001b[0m lines \u001b[39m=\u001b[39m [\u001b[39m*\u001b[39m\u001b[39mself\u001b[39m\u001b[39m.\u001b[39m_get_lines(\u001b[39m*\u001b[39margs, data\u001b[39m=\u001b[39mdata, \u001b[39m*\u001b[39m\u001b[39m*\u001b[39mkwargs)]\n\u001b[1;32m   1689\u001b[0m \u001b[39mfor\u001b[39;00m line \u001b[39min\u001b[39;00m lines:\n\u001b[1;32m   1690\u001b[0m     \u001b[39mself\u001b[39m\u001b[39m.\u001b[39madd_line(line)\n",
                  "File \u001b[0;32m~/miniconda3/lib/python3.9/site-packages/matplotlib/axes/_base.py:311\u001b[0m, in \u001b[0;36m_process_plot_var_args.__call__\u001b[0;34m(self, data, *args, **kwargs)\u001b[0m\n\u001b[1;32m    309\u001b[0m     this \u001b[39m+\u001b[39m\u001b[39m=\u001b[39m args[\u001b[39m0\u001b[39m],\n\u001b[1;32m    310\u001b[0m     args \u001b[39m=\u001b[39m args[\u001b[39m1\u001b[39m:]\n\u001b[0;32m--> 311\u001b[0m \u001b[39myield from\u001b[39;00m \u001b[39mself\u001b[39;49m\u001b[39m.\u001b[39;49m_plot_args(\n\u001b[1;32m    312\u001b[0m     this, kwargs, ambiguous_fmt_datakey\u001b[39m=\u001b[39;49mambiguous_fmt_datakey)\n",
                  "File \u001b[0;32m~/miniconda3/lib/python3.9/site-packages/matplotlib/axes/_base.py:496\u001b[0m, in \u001b[0;36m_process_plot_var_args._plot_args\u001b[0;34m(self, tup, kwargs, return_kwargs, ambiguous_fmt_datakey)\u001b[0m\n\u001b[1;32m    494\u001b[0m     y \u001b[39m=\u001b[39m _check_1d(xy[\u001b[39m1\u001b[39m])\n\u001b[1;32m    495\u001b[0m \u001b[39melse\u001b[39;00m:\n\u001b[0;32m--> 496\u001b[0m     x, y \u001b[39m=\u001b[39m index_of(xy[\u001b[39m-\u001b[39;49m\u001b[39m1\u001b[39;49m])\n\u001b[1;32m    498\u001b[0m \u001b[39mif\u001b[39;00m \u001b[39mself\u001b[39m\u001b[39m.\u001b[39maxes\u001b[39m.\u001b[39mxaxis \u001b[39mis\u001b[39;00m \u001b[39mnot\u001b[39;00m \u001b[39mNone\u001b[39;00m:\n\u001b[1;32m    499\u001b[0m     \u001b[39mself\u001b[39m\u001b[39m.\u001b[39maxes\u001b[39m.\u001b[39mxaxis\u001b[39m.\u001b[39mupdate_units(x)\n",
                  "File \u001b[0;32m~/miniconda3/lib/python3.9/site-packages/matplotlib/cbook/__init__.py:1656\u001b[0m, in \u001b[0;36mindex_of\u001b[0;34m(y)\u001b[0m\n\u001b[1;32m   1654\u001b[0m     \u001b[39mpass\u001b[39;00m\n\u001b[1;32m   1655\u001b[0m \u001b[39mtry\u001b[39;00m:\n\u001b[0;32m-> 1656\u001b[0m     y \u001b[39m=\u001b[39m _check_1d(y)\n\u001b[1;32m   1657\u001b[0m \u001b[39mexcept\u001b[39;00m (np\u001b[39m.\u001b[39mVisibleDeprecationWarning, \u001b[39mValueError\u001b[39;00m):\n\u001b[1;32m   1658\u001b[0m     \u001b[39m# NumPy 1.19 will warn on ragged input, and we can't actually use it.\u001b[39;00m\n\u001b[1;32m   1659\u001b[0m     \u001b[39mpass\u001b[39;00m\n",
                  "File \u001b[0;32m~/miniconda3/lib/python3.9/site-packages/matplotlib/cbook/__init__.py:1348\u001b[0m, in \u001b[0;36m_check_1d\u001b[0;34m(x)\u001b[0m\n\u001b[1;32m   1342\u001b[0m \u001b[39m# plot requires `shape` and `ndim`.  If passed an\u001b[39;00m\n\u001b[1;32m   1343\u001b[0m \u001b[39m# object that doesn't provide them, then force to numpy array.\u001b[39;00m\n\u001b[1;32m   1344\u001b[0m \u001b[39m# Note this will strip unit information.\u001b[39;00m\n\u001b[1;32m   1345\u001b[0m \u001b[39mif\u001b[39;00m (\u001b[39mnot\u001b[39;00m \u001b[39mhasattr\u001b[39m(x, \u001b[39m'\u001b[39m\u001b[39mshape\u001b[39m\u001b[39m'\u001b[39m) \u001b[39mor\u001b[39;00m\n\u001b[1;32m   1346\u001b[0m         \u001b[39mnot\u001b[39;00m \u001b[39mhasattr\u001b[39m(x, \u001b[39m'\u001b[39m\u001b[39mndim\u001b[39m\u001b[39m'\u001b[39m) \u001b[39mor\u001b[39;00m\n\u001b[1;32m   1347\u001b[0m         \u001b[39mlen\u001b[39m(x\u001b[39m.\u001b[39mshape) \u001b[39m<\u001b[39m \u001b[39m1\u001b[39m):\n\u001b[0;32m-> 1348\u001b[0m     \u001b[39mreturn\u001b[39;00m np\u001b[39m.\u001b[39;49matleast_1d(x)\n\u001b[1;32m   1349\u001b[0m \u001b[39melse\u001b[39;00m:\n\u001b[1;32m   1350\u001b[0m     \u001b[39mreturn\u001b[39;00m x\n",
                  "File \u001b[0;32m<__array_function__ internals>:200\u001b[0m, in \u001b[0;36matleast_1d\u001b[0;34m(*args, **kwargs)\u001b[0m\n",
                  "File \u001b[0;32m~/miniconda3/lib/python3.9/site-packages/numpy/core/shape_base.py:65\u001b[0m, in \u001b[0;36matleast_1d\u001b[0;34m(*arys)\u001b[0m\n\u001b[1;32m     63\u001b[0m res \u001b[39m=\u001b[39m []\n\u001b[1;32m     64\u001b[0m \u001b[39mfor\u001b[39;00m ary \u001b[39min\u001b[39;00m arys:\n\u001b[0;32m---> 65\u001b[0m     ary \u001b[39m=\u001b[39m asanyarray(ary)\n\u001b[1;32m     66\u001b[0m     \u001b[39mif\u001b[39;00m ary\u001b[39m.\u001b[39mndim \u001b[39m==\u001b[39m \u001b[39m0\u001b[39m:\n\u001b[1;32m     67\u001b[0m         result \u001b[39m=\u001b[39m ary\u001b[39m.\u001b[39mreshape(\u001b[39m1\u001b[39m)\n",
                  "File \u001b[0;32m~/miniconda3/lib/python3.9/site-packages/torch/_tensor.py:956\u001b[0m, in \u001b[0;36mTensor.__array__\u001b[0;34m(self, dtype)\u001b[0m\n\u001b[1;32m    954\u001b[0m     \u001b[39mreturn\u001b[39;00m handle_torch_function(Tensor\u001b[39m.\u001b[39m__array__, (\u001b[39mself\u001b[39m,), \u001b[39mself\u001b[39m, dtype\u001b[39m=\u001b[39mdtype)\n\u001b[1;32m    955\u001b[0m \u001b[39mif\u001b[39;00m dtype \u001b[39mis\u001b[39;00m \u001b[39mNone\u001b[39;00m:\n\u001b[0;32m--> 956\u001b[0m     \u001b[39mreturn\u001b[39;00m \u001b[39mself\u001b[39;49m\u001b[39m.\u001b[39;49mnumpy()\n\u001b[1;32m    957\u001b[0m \u001b[39melse\u001b[39;00m:\n\u001b[1;32m    958\u001b[0m     \u001b[39mreturn\u001b[39;00m \u001b[39mself\u001b[39m\u001b[39m.\u001b[39mnumpy()\u001b[39m.\u001b[39mastype(dtype, copy\u001b[39m=\u001b[39m\u001b[39mFalse\u001b[39;00m)\n",
                  "\u001b[0;31mTypeError\u001b[0m: can't convert cuda:0 device type tensor to numpy. Use Tensor.cpu() to copy the tensor to host memory first."
               ]
            },
            {
               "data": {
                  "image/png": "[encoded data removed]",
                  "text/plain": [
                     "<Figure size 640x480 with 1 Axes>"
                  ]
               },
               "metadata": {},
               "output_type": "display_data"
            }
         ],
         "source": [
            "test_accs, test_losses, losses, train_accs, best_model, best_acc = train(args)\n",
            "\n",
            "print(\"Maximum test set accuracy: {0}\".format(max(test_accs)))\n",
            "print(\"Maximum training set accuracy: {0}\".format(max(train_accs)))\n",
            "print(\"Minimum loss: {0}\".format(min(losses)))\n",
            "print(\"Minimum test loss: {0}\".format(min(test_losses)))"
         ]
      },
      {
         "cell_type": "code",
         "execution_count": 26,
         "metadata": {},
         "outputs": [
            {
               "data": {
                  "image/png": "[encoded data removed]",
                  "text/plain": [
                     "<Figure size 640x480 with 1 Axes>"
                  ]
               },
               "metadata": {},
               "output_type": "display_data"
            }
         ],
         "source": [
            "test_losses = [x.cpu() for x in test_losses]\n",
            "train_size = MinCostDataset(root = \"./data/data_train\").len()\n",
            "test_size = MinCostDataset(root = \"./data/data_test\").len()\n",
            "\n",
            "if args.predict_edges:\n",
            "    # If performing edge classification, we also plot accuracy\n",
            "    plt.subplot(1, 2, 1)\n",
            "fig = plt.figure(figsize=(8,4))\n",
            "plt.plot(np.array(losses)/train_size, label = \"training loss\" + \" - \" + args.model_type, color = 'red', linestyle = 'solid')\n",
            "plt.plot(np.array(test_losses)/test_size, label = \"test loss\" + \" - \" + args.model_type, color = 'green', linestyle = 'solid')\n",
            "plt.xlabel('Epoch')\n",
            "plt.ylabel('Avg loss per network')\n",
            "plt.legend()\n",
            "\n",
            "if args.predict_edges:\n",
            "    plt.subplot(1, 2, 2)\n",
            "    plt.plot(train_accs, label = \"training accuracy\" + \" - \" + args.model_type, color = 'red', linestyle = 'dashed')\n",
            "    plt.plot(test_accs, label = \"test accuracy\" + \" - \" + args.model_type, color = 'green', linestyle = 'dashed')\n",
            "    plt.legend()\n",
            "    \n",
            "    plt.tight_layout()\n",
            "plt.show()"
         ]
      },
      {
         "cell_type": "code",
         "execution_count": 49,
         "metadata": {},
         "outputs": [
            {
               "data": {
                  "image/png": "[encoded data removed]",
                  "text/plain": [
                     "<Figure size 640x480 with 1 Axes>"
                  ]
               },
               "metadata": {},
               "output_type": "display_data"
            }
         ],
         "source": [
            "import importlib\n",
            "import metrics\n",
            "importlib.reload(metrics)\n",
            "from metrics import compute_dataset_metrics\n",
            "\n",
            "test_dataset = MinCostDataset(root = \"./data/data_test\")\n",
            "o_iters, t_iters, o_excess, t_excess, files = compute_dataset_metrics(\n",
            "    test_dataset, best_model.to('cpu'), dataset.raw_dir\n",
            ")\n",
            "\n",
            "iter_improve = np.array(o_iters) - np.array(t_iters)\n",
            "labels, counts = np.unique(iter_improve, return_counts=True)\n",
            "plt.bar(labels, counts, align='center')\n",
            "plt.gca().set_xticks(labels)\n",
            "plt.xlabel('Solve iterations improvement from warm start')\n",
            "plt.ylabel('Graph count')\n",
            "plt.vlines(x=-0, ymin=0, ymax=np.max(counts), color='r', linestyle='-', label='Reduced computation')\n",
            "plt.show()\n",
            "\n",
            "avg_improvement = np.mean((np.array(o_iters) - np.array(t_iters)) / np.array(o_iters))\n",
            "print(f\"Average runtime reduction: {avg_improvement * 100}%\")"
         ]
      },
      {
         "cell_type": "code",
         "execution_count": null,
         "metadata": {},
         "outputs": [],
         "source": []
      }
   ],
   "metadata": {
      "kernelspec": {
         "display_name": "Python 3",
         "language": "python",
         "name": "python3"
      },
      "language_info": {
         "codemirror_mode": {
            "name": "ipython",
            "version": 3
         },
         "file_extension": ".py",
         "mimetype": "text/x-python",
         "name": "python",
         "nbconvert_exporter": "python",
         "pygments_lexer": "ipython3",
         "version": "3.9.16"
      }
   },
   "nbformat": 4,
   "nbformat_minor": 2
}
