{
 "cells": [
  {
   "cell_type": "code",
   "execution_count": 1,
   "metadata": {
    "collapsed": false
   },
   "outputs": [
    {
     "name": "stdout",
     "output_type": "stream",
     "text": [
      "PyTorch has version 1.13.1\n"
     ]
    }
   ],
   "source": [
    "import torch\n",
    "from matplotlib import pyplot as plt\n",
    "\n",
    "import metrics\n",
    "\n",
    "print(\"PyTorch has version {}\".format(torch.__version__))\n",
    "import torch.nn as nn\n",
    "import torch.optim as optim\n",
    "import torch.nn.functional as F\n",
    "\n",
    "import numpy as np\n",
    "import os\n",
    "import shutil\n",
    "\n",
    "from tqdm import trange\n",
    "import copy\n",
    "\n",
    "from torch_geometric.loader import DataLoader\n",
    "\n",
    "torch.manual_seed(1)\n",
    "np.random.seed(1)"
   ]
  },
  {
   "cell_type": "markdown",
   "source": [
    "## Graph generation\n",
    "Here, we generate many graphs in the DIMACS minimum cost flow structure. Any minimum cost flow problem in this representation can be used for training.\n",
    "More specifics on the file representation: [DIMACS minimum cost flow problem structure](https://lpsolve.sourceforge.net/5.5/DIMACS_mcf.htm)"
   ],
   "metadata": {
    "collapsed": false
   }
  },
  {
   "cell_type": "code",
   "execution_count": 2,
   "outputs": [
    {
     "name": "stdout",
     "output_type": "stream",
     "text": [
      "Generating 100 min cost flow graphs\n",
      "Done!\n"
     ]
    }
   ],
   "source": [
    "from graph_generator import generate_min_cost_flow_graphs\n",
    "\n",
    "generate_min_cost_flow_graphs(num = 100, dst_folder = \"./data/raw\")"
   ],
   "metadata": {
    "collapsed": false
   }
  },
  {
   "cell_type": "markdown",
   "source": [
    "## Pytorch geometric dataset\n",
    "The MinCostDataset class is a custom pytorch geometric dataset class that allows transforms graphs from the DIMACS problem structure into the graph format expected by PyG."
   ],
   "metadata": {
    "collapsed": false
   }
  },
  {
   "cell_type": "code",
   "execution_count": 3,
   "metadata": {
    "collapsed": false
   },
   "outputs": [
    {
     "name": "stderr",
     "output_type": "stream",
     "text": [
      "Processing...\n",
      "Done!\n"
     ]
    }
   ],
   "source": [
    "from MinCostDataset import MinCostDataset\n",
    "\n",
    "dataset = MinCostDataset(root = \"./data/\")"
   ]
  },
  {
   "cell_type": "code",
   "execution_count": 4,
   "metadata": {
    "collapsed": false
   },
   "outputs": [
    {
     "name": "stdout",
     "output_type": "stream",
     "text": [
      "number of graphs: 100\n",
      "number of node features: 1\n",
      "number of edge features: 2\n",
      "first graph: Data(x=[52, 1], edge_index=[2, 113], edge_attr=[113, 2], y=[52, 2], reduced_cost=[113, 2], filename='netgen_72.txt')\n"
     ]
    }
   ],
   "source": [
    "def dataset_information(dataset):\n",
    "    \"\"\"Print some basic information about the dataset\"\"\"\n",
    "    print(f\"number of graphs: {dataset.len()}\")\n",
    "    print(f\"number of node features: {dataset.num_features}\")\n",
    "    print(f\"number of edge features: {dataset.num_edge_features}\")\n",
    "    print(f\"first graph: {dataset[0]}\")\n",
    "\n",
    "\n",
    "dataset_information(dataset)"
   ]
  },
  {
   "cell_type": "markdown",
   "source": [
    "## Dataset split\n",
    "Since we are not working with a predefined dataset, we have to manually create training, testing, and validation splits. Since some training tasks we test are at the graph-level (for example, learning optimal duals from the dual value), we split at the level of graphs instead of nodes/edges."
   ],
   "metadata": {
    "collapsed": false
   }
  },
  {
   "cell_type": "code",
   "execution_count": 5,
   "metadata": {
    "collapsed": false
   },
   "outputs": [],
   "source": [
    "def train_test_validation_split(dataset, train = 0.7, validation = 0.15):\n",
    "    \"\"\"\n",
    "    Splits a dataset into a training, validation, and test split. The test fraction is 1 - train - validation.\n",
    "    Similar to sklearn.model_selection.train_test_split with the addition to a validation split.\n",
    "    Args:\n",
    "        dataset: dataset to split\n",
    "        train: fraction of the dataset to allocate to training\n",
    "        validation: fraction of the dataset to allocate to validation\n",
    "\n",
    "    Returns:\n",
    "        An index for each train/validation/test datasets.\n",
    "    \"\"\"\n",
    "    length = dataset.len()\n",
    "    shuffled_dataset = np.arange(length)\n",
    "    np.random.shuffle(shuffled_dataset)\n",
    "\n",
    "    train_cutoff = int(train * length)\n",
    "    validation_cutoff = int((train + validation) * length)\n",
    "\n",
    "    train_data = shuffled_dataset[:train_cutoff]\n",
    "    validation_data = shuffled_dataset[train_cutoff: validation_cutoff]\n",
    "    test_data = shuffled_dataset[validation_cutoff:]\n",
    "\n",
    "    return train_data, validation_data, test_data"
   ]
  },
  {
   "cell_type": "code",
   "execution_count": 6,
   "metadata": {
    "collapsed": false
   },
   "outputs": [],
   "source": [
    "def create_split_directories(dataset, split, split_name):\n",
    "    \"\"\"\n",
    "    Creates a new directory for the dataset and saves each corresponding file into it.\n",
    "    Args:\n",
    "        dataset: dataset from which to copy the files\n",
    "        split: indices of the files to move to the new directory\n",
    "        split_name: name of the new directory\n",
    "    \"\"\"\n",
    "\n",
    "    src_folder = dataset.processed_dir\n",
    "    dst_folder = os.path.join(dataset.root, split_name)\n",
    "\n",
    "    # Remove files in case some were already present\n",
    "    if os.path.exists(dst_folder):\n",
    "        shutil.rmtree(dst_folder)\n",
    "    os.makedirs(dst_folder)\n",
    "\n",
    "    # Files are always expected by PyG to be ordered from 0 to length of the dataset so we have to\n",
    "    # reorder them in the new directory\n",
    "    dst_index = 0\n",
    "    for file_id in split:\n",
    "        src_file_name = f\"data_{file_id}.pt\"\n",
    "        dst_file_name = f\"data_{dst_index}.pt\"\n",
    "        src = os.path.join(src_folder, src_file_name)\n",
    "        dst = os.path.join(dst_folder, dst_file_name)\n",
    "        shutil.copyfile(src, dst)\n",
    "        dst_index += 1\n"
   ]
  },
  {
   "cell_type": "code",
   "execution_count": 7,
   "metadata": {
    "collapsed": false
   },
   "outputs": [],
   "source": [
    "def split_dataset(dataset, train_frac = 0.7, validation_frac = 0.15):\n",
    "    \"\"\"\n",
    "    Partitions a dataset into 3 folders: data_train, data_test, data_validation such that each contains\n",
    "    a certain fraction of the graphs.\n",
    "    Args:\n",
    "        dataset: dataset to split\n",
    "        train_frac: fraction of the graphs to put into the training folder\n",
    "        validation_frac: fraction of the graphs ot put into the validation folder\n",
    "    Note: test_frac is implicitly defined as 1 - train_frac - validation frac\n",
    "    \"\"\"\n",
    "\n",
    "    train, validation, test = train_test_validation_split(dataset, train_frac, validation_frac)\n",
    "    create_split_directories(dataset, train, \"data_train/processed\")\n",
    "    create_split_directories(dataset, test, \"data_test/processed\")\n",
    "    create_split_directories(dataset, validation, \"data_validation/processed\")\n",
    "\n",
    "\n",
    "split_dataset(dataset, train_frac = 0.7, validation_frac = 0.15)"
   ]
  },
  {
   "cell_type": "markdown",
   "source": [
    "## Loss functions\n",
    "We define the different loss functions we have experimented for learning duals. This first one (DualLoss) pools over all predicted node potentials (a scalar value predicted for each node) then computes the objective value of the dual in the graph. The corresponding formula comes directly from the dual expression of min cost flow:\n",
    "$$\\widehat{\\text{OPT}} = \\sum_{i \\in V} b_i\\hat{y}_i - \\sum_{(i,j) \\in E} u_{ij} \\cdot \\max(0, \\hat{y}_j - \\hat{y}_i - c_{ij})$$\n",
    "Loss is then computed by:\n",
    "$$\\text{LOSS} (\\text{OPT}, \\widehat{\\text{OPT}}) = \\text{OPT} - \\widehat{\\text{OPT}}$$\n",
    "Notice that we don't add a norm on the substraction since, by weak duality $\\text{LOSS}(\\text{OPT}, \\widehat{\\text{OPT}}) \\geq 0$ with $\\text{LOSS}(\\text{OPT}, \\widehat{\\text{OPT}}) = 0$ if and only if $\\hat{y}$ is a dual-optimal solution.\n"
   ],
   "metadata": {
    "collapsed": false
   }
  },
  {
   "cell_type": "code",
   "execution_count": 8,
   "metadata": {
    "collapsed": false
   },
   "outputs": [],
   "source": [
    "class DualLoss(nn.Module):\n",
    "    \"\"\"\n",
    "    This loss function computes the objective value of the learned duals following the above formula with an optional regularization factor.\n",
    "    \"\"\"\n",
    "\n",
    "    def __init__(self):\n",
    "        super(DualLoss, self).__init__()\n",
    "\n",
    "    def forward(self, pred, label, x, edge_index, edge_attr, gamma = 0.0005):\n",
    "        \"\"\"\n",
    "        Computes the dual loss\n",
    "        Args:\n",
    "            pred: predicted node potentials\n",
    "            label: optimal dual value in the graphs\n",
    "            x: original node features (we need to know the demand of each node to compute the loss)\n",
    "            edge_index: edge structure of the graph\n",
    "            edge_attr: original edge features (we need to know the cost and capacity of each edge to compute the loss)\n",
    "            gamma: regularization factor to push learned potentials towards more 0 reduced cost edges\n",
    "\n",
    "        Returns:\n",
    "            the corresponding loss value\n",
    "        \"\"\"\n",
    "        reduced_cost = edge_attr[:, 1] + pred[edge_index[0]].squeeze() - pred[edge_index[1]].squeeze()\n",
    "        opt = label[0, 0]  # Optimal dual value in the graph\n",
    "\n",
    "        # PyTorch retranscription of the above equation, notice that the loss is divided by the optimal dual value\n",
    "        # to make it independent of graph size\n",
    "        loss = (opt + torch.dot(pred.squeeze(), x.squeeze()) + torch.dot(edge_attr[:, 0],\n",
    "                                                                             F.relu(-reduced_cost))) / opt\n",
    "\n",
    "        reg = gamma * sum(F.relu(-reduced_cost))\n",
    "\n",
    "        return loss + reg"
   ]
  },
  {
   "cell_type": "markdown",
   "source": [
    "#### Edge reduced cost loss\n",
    "Instead of trying to predict node potential values, here we try to predict if a given edge will have negative reduced cost or positive reduced cost (this information can then used to \"warm-start\" the algorithm). In this case, we are essentially doing edge classification so the loss definition is much simpler, simply computing a weighted cross entropy."
   ],
   "metadata": {
    "collapsed": false
   }
  },
  {
   "cell_type": "code",
   "execution_count": 9,
   "outputs": [],
   "source": [
    "class EdgeReducedCostLoss(nn.Module):\n",
    "    def __init__(self, weight = None):\n",
    "        \"\"\"\n",
    "        Args:\n",
    "            weight: weighs the different classes differently, useful for an unbalanced dataset (which is the case here)\n",
    "        \"\"\"\n",
    "        super(EdgeReducedCostLoss, self).__init__()\n",
    "        self.loss_fn = nn.CrossEntropyLoss(weight = weight)\n",
    "\n",
    "    def forward(self, preds, labels):\n",
    "        return self.loss_fn(preds, labels)\n"
   ],
   "metadata": {
    "collapsed": false
   }
  },
  {
   "cell_type": "markdown",
   "source": [
    "#### Potential loss\n",
    "This loss function is most similar to the first one (DualLoss). However, here, instead of learning duals such that their objective value is close to optimal, we learn dual values that are close to a set of optimal dual values. This transforms the task from a graph-level regression to a node-level regression.\n",
    "\n",
    "We note that this approach may seem theoretically unsound, there are indeed several possible sets of optimal dual values possible, all attaining optimal objective value so learning exactly one set seems illogical. However, empirically, this method is the one that works best. From experiments, it seems to be because DualLoss had a much higher noise to signal ratio. This makes sense intuitively, here we predict one value per node whereas in DualLoss, we essentially predict one value for the entire graph then expect to backpropagate this single scalar value to the thousands of parameters in the GNN."
   ],
   "metadata": {
    "collapsed": false
   }
  },
  {
   "cell_type": "code",
   "execution_count": 10,
   "outputs": [],
   "source": [
    "class PotentialLoss(nn.Module):\n",
    "    \"\"\"\n",
    "    Simplest loss: it just returns the L1 difference between a set of optimal dual values (that is, a scalar value per node in the graph)\n",
    "    and the computed duals\n",
    "    \"\"\"\n",
    "\n",
    "    def __init__(self):\n",
    "        super(PotentialLoss, self).__init__()\n",
    "\n",
    "    def forward(self, preds, labels):\n",
    "        return torch.linalg.vector_norm(preds.squeeze() - labels, ord = 1)"
   ],
   "metadata": {
    "collapsed": false
   }
  },
  {
   "cell_type": "code",
   "execution_count": 11,
   "outputs": [],
   "source": [
    "def accuracy(preds, labels):\n",
    "    \"\"\"\n",
    "    For edge-level classification, computes the accuracy of the predictions\n",
    "    Args:\n",
    "        preds: predicted edge classes\n",
    "        labels: ground truth edge classes\n",
    "    \"\"\"\n",
    "    predicted_classes = torch.argmax(preds, dim = 1)\n",
    "    label_values = torch.argmax(labels, dim = 1)\n",
    "\n",
    "    # True positives for edges with negative reduced cost\n",
    "    count1 = predicted_classes[predicted_classes == label_values == 0]\n",
    "    accuracy1 = predicted_classes.sum() / label_values[label_values == 0].sum()\n",
    "\n",
    "    # True positives for edges with positive (>= 0) reduced cost\n",
    "    count2 = predicted_classes[predicted_classes == label_values == 1]\n",
    "    accuracy2 = predicted_classes.sum() / label_values[label_values == 1].sum()\n",
    "\n",
    "    # Prints the percentage of\n",
    "    print(f\"predicted % for class 0/neg: {accuracy1 * 100}\")\n",
    "    print(f\"predicted % for class 1/pos: {accuracy2 * 100}\")\n",
    "\n",
    "    accuracy = torch.mean(torch.where(predicted_classes == label_values, 1, 0).float()).item()\n",
    "\n",
    "    return round(accuracy, 4)"
   ],
   "metadata": {
    "collapsed": false
   }
  },
  {
   "cell_type": "markdown",
   "source": [
    "## Model definition"
   ],
   "metadata": {
    "collapsed": false
   }
  },
  {
   "cell_type": "code",
   "execution_count": 12,
   "metadata": {
    "collapsed": false
   },
   "outputs": [],
   "source": [
    "def build_optimizer(args, params):\n",
    "    \"\"\"\n",
    "    Builds an optimizer according to the given parameters. From Colab 2:\n",
    "    https://colab.research.google.com/drive/1xHmpjVO-Z74NK-dH3qoUBTf-tKUPfOKW?usp=sharing\n",
    "    \"\"\"\n",
    "\n",
    "    weight_decay = args.weight_decay\n",
    "    filter_fn = filter(lambda p: p.requires_grad, params)\n",
    "    if args.opt == 'adam':\n",
    "        optimizer = optim.Adam(filter_fn, lr = args.lr, weight_decay = weight_decay)\n",
    "    elif args.opt == 'sgd':\n",
    "        optimizer = optim.SGD(filter_fn, lr = args.lr, momentum = 0.95, weight_decay = weight_decay)\n",
    "    elif args.opt == 'rmsprop':\n",
    "        optimizer = optim.RMSprop(filter_fn, lr = args.lr, weight_decay = weight_decay)\n",
    "    elif args.opt == 'adagrad':\n",
    "        optimizer = optim.Adagrad(filter_fn, lr = args.lr, weight_decay = weight_decay)\n",
    "    if args.opt_scheduler == 'none':\n",
    "        return None, optimizer\n",
    "    elif args.opt_scheduler == 'step':\n",
    "        scheduler = optim.lr_scheduler.StepLR(optimizer, step_size = args.opt_decay_step, gamma = args.opt_decay_rate)\n",
    "    elif args.opt_scheduler == 'cos':\n",
    "        scheduler = optim.lr_scheduler.CosineAnnealingLR(optimizer, T_max = args.opt_restart)\n",
    "    return scheduler, optimizer"
   ]
  },
  {
   "cell_type": "code",
   "execution_count": 47,
   "outputs": [],
   "source": [
    "class objectview(object):\n",
    "    def __init__(self, d):\n",
    "        self.__dict__ = d\n",
    "\n",
    "# args defines the model and training hyperparameters\n",
    "args = {\n",
    "    'num_layers':    10,\n",
    "    'batch_size':    1,\n",
    "    'hidden_dim':    32,\n",
    "    'heads':         4,\n",
    "    'predict_edges': False,\n",
    "    'dropout':       0.5,\n",
    "    'epochs':        100,\n",
    "    'opt':           'adam',\n",
    "    'opt_scheduler': 'none',\n",
    "    'opt_restart':   0,\n",
    "    'weight_decay':  5e-3,\n",
    "    'lr':            0.001,\n",
    "    'model_type':    \"GAT\"\n",
    "}\n",
    "args = objectview(args)"
   ],
   "metadata": {
    "collapsed": false
   }
  },
  {
   "cell_type": "code",
   "execution_count": 48,
   "outputs": [],
   "source": [
    "from gnn_models.CBN_NNConv import CBN_NNConv\n",
    "from gnn_models.CBN_GAT import CBN_GAT\n",
    "\n",
    "# To make batching easier, we define 2 data loaders, one for training, one for testing\n",
    "train_loader = DataLoader(MinCostDataset(root = \"./data/data_train\"), batch_size = args.batch_size, shuffle = True)\n",
    "test_loader = DataLoader(MinCostDataset(root = \"./data/data_test\"), batch_size = args.batch_size, shuffle = True)\n",
    "\n",
    "def train(args):\n",
    "    \"\"\"\n",
    "    Trains a GNN model, periodically testing it and accumulating loss values\n",
    "    Args:\n",
    "        args: dictionary object containing training parameters\n",
    "    \"\"\"\n",
    "\n",
    "    # Input dimension is 1 (we only have demand information for every node)\n",
    "    # Edge feature dimension is 2 (capacity and cost per edge)\n",
    "    # Output dimension is 1 since we predict scalar potential values for each vertex\n",
    "    if args.model_type == \"GAT\":\n",
    "        model = CBN_GAT(1, 1, 2, args)\n",
    "    else:\n",
    "        model = CBN_NNConv(1, 1, 2, args)\n",
    "\n",
    "    if args.predict_edges:\n",
    "        loss_fn = EdgeReducedCostLoss()\n",
    "    else:\n",
    "        loss_fn = PotentialLoss()\n",
    "\n",
    "    scheduler, opt = build_optimizer(args, model.parameters())\n",
    "\n",
    "    # accumulate model performance for plotting\n",
    "    losses = []\n",
    "    train_accs = []\n",
    "    test_accs = []\n",
    "    test_losses = []\n",
    "    best_loss = None\n",
    "    best_model = None\n",
    "\n",
    "    for epoch in trange(args.epochs, desc = \"Training\", unit = \"Epochs\"):\n",
    "        total_loss = 0\n",
    "        total_accuracy = 0\n",
    "        model.train()\n",
    "\n",
    "        for batch in train_loader:\n",
    "            opt.zero_grad()\n",
    "            pred = model(batch.x, batch.edge_index, batch.edge_attr)\n",
    "            if args.predict_edges:\n",
    "                # For case of edge prediction, we classify edges according to their reduced cost\n",
    "                loss = loss_fn(pred, batch.reduced_cost)\n",
    "            else:\n",
    "                # For node potential prediction, we perform regression onto optimal potential values\n",
    "                # (contained in batch.y[:, 1]\n",
    "                loss = loss_fn(pred, batch.y[:, 1])\n",
    "\n",
    "            loss.backward()\n",
    "            opt.step()\n",
    "\n",
    "            if args.predict_edges:\n",
    "                # Accuracy only is computed for the classification task\n",
    "                total_accuracy += model.accuracy(pred, batch.reduced_cost) * batch.num_graphs\n",
    "            total_loss += loss.item() * batch.num_graphs\n",
    "        total_loss /= len(train_loader.dataset)\n",
    "        total_accuracy /= len(train_loader.dataset)\n",
    "        losses.append(total_loss)\n",
    "        train_accs.append(total_accuracy)\n",
    "\n",
    "        if epoch % 10 == 0:\n",
    "            test_acc, test_loss = test(test_loader, model, loss_fn, args)\n",
    "            test_accs.append(test_acc)\n",
    "            test_losses.append(test_loss)\n",
    "            if best_loss is None or test_loss < best_loss:\n",
    "                best_loss = test_loss\n",
    "                best_model = copy.deepcopy(model)\n",
    "        else:\n",
    "            test_accs.append(test_accs[-1])\n",
    "            test_losses.append(test_losses[-1])\n",
    "\n",
    "    return test_accs, test_losses, losses, train_accs, best_model, best_loss\n",
    "\n",
    "\n",
    "def test(loader, test_model, loss_fn, args):\n",
    "    test_model.eval()\n",
    "    total_accuracy = 0\n",
    "    total_loss = 0\n",
    "\n",
    "    for batch in loader:\n",
    "        with torch.no_grad():\n",
    "            pred = test_model(batch.x, batch.edge_index, batch.edge_attr)\n",
    "\n",
    "\n",
    "            if args.predict_edges:\n",
    "                # For case of edge prediction, we classify edges according to their reduced cost\n",
    "                loss = loss_fn(pred, batch.reduced_cost)\n",
    "            else:\n",
    "                # For node potential prediction, we perform regression onto optimal potential values\n",
    "                # (contained in batch.y[:, 1]\n",
    "                loss = loss_fn(pred, batch.y[:, 1])\n",
    "\n",
    "            if args.predict_edges:\n",
    "                total_accuracy += test_model.accuracy(pred, batch.reduced_cost) * batch.num_graphs\n",
    "\n",
    "            total_loss += loss * batch.num_graphs\n",
    "\n",
    "\n",
    "    total_accuracy /= len(test_loader.dataset)\n",
    "    total_loss /= len(test_loader.dataset)\n",
    "\n",
    "    return total_accuracy, total_loss\n"
   ],
   "metadata": {
    "collapsed": false
   }
  },
  {
   "cell_type": "code",
   "execution_count": 49,
   "outputs": [
    {
     "name": "stderr",
     "output_type": "stream",
     "text": [
      "Training: 100%|██████████| 200/200 [07:17<00:00,  2.19s/Epochs]"
     ]
    },
    {
     "name": "stdout",
     "output_type": "stream",
     "text": [
      "Maximum test set accuracy: 0.0\n",
      "Maximum training set accuracy: 0.0\n",
      "Minimum loss: 641.6429011753627\n",
      "Minimum test loss: 737.7169189453125\n",
      "\n"
     ]
    },
    {
     "name": "stderr",
     "output_type": "stream",
     "text": [
      "\n"
     ]
    },
    {
     "data": {
      "text/plain": "<Figure size 640x480 with 1 Axes>",
      "image/png": "[encoded data removed]"
     },
     "metadata": {},
     "output_type": "display_data"
    }
   ],
   "source": [
    "test_accs, test_losses, losses, train_accs, best_model, best_acc = train(args)\n",
    "\n",
    "print(\"Maximum test set accuracy: {0}\".format(max(test_accs)))\n",
    "print(\"Maximum training set accuracy: {0}\".format(max(train_accs)))\n",
    "print(\"Minimum loss: {0}\".format(min(losses)))\n",
    "print(\"Minimum test loss: {0}\".format(min(test_losses)))\n",
    "\n",
    "# Run test for our best model to save the predictions!\n",
    "# test(test_loader, best_model, is_validation=False, save_model_preds=True, model_type=model)\n",
    "print()\n",
    "if args.predict_edges:\n",
    "    # If performing edge classification, we also plot accuracy\n",
    "    plt.subplot(1, 2, 1)\n",
    "\n",
    "plt.plot(losses, label = \"training loss\" + \" - \" + args.model_type, color = 'red', linestyle = 'solid')\n",
    "plt.plot(test_losses, label = \"test loss\" + \" - \" + args.model_type, color = 'green', linestyle = 'solid')\n",
    "plt.legend()\n",
    "\n",
    "if args.predict_edges:\n",
    "    plt.subplot(1, 2, 2)\n",
    "    plt.plot(train_accs, label = \"training accuracy\" + \" - \" + args.model_type, color = 'red', linestyle = 'dashed')\n",
    "    plt.plot(test_accs, label = \"test accuracy\" + \" - \" + args.model_type, color = 'green', linestyle = 'dashed')\n",
    "    plt.legend()\n",
    "    plt.tight_layout()\n",
    "plt.show()"
   ],
   "metadata": {
    "collapsed": false
   }
  },
  {
   "cell_type": "code",
   "execution_count": 53,
   "outputs": [
    {
     "name": "stdout",
     "output_type": "stream",
     "text": [
      "orig iters: 16, trained iters: 17\n",
      "orig excess: 500, trained_excess: 580\n",
      "orig iters: 20, trained iters: 26\n",
      "orig excess: 500, trained_excess: 744\n",
      "orig iters: 19, trained iters: 16\n",
      "orig excess: 500, trained_excess: 432\n",
      "orig iters: 14, trained iters: 17\n",
      "orig excess: 500, trained_excess: 530\n",
      "orig iters: 15, trained iters: 17\n",
      "orig excess: 500, trained_excess: 444\n",
      "orig iters: 10, trained iters: 11\n",
      "orig excess: 500, trained_excess: 242\n",
      "orig iters: 27, trained iters: 22\n",
      "orig excess: 500, trained_excess: 390\n",
      "orig iters: 15, trained iters: 17\n",
      "orig excess: 500, trained_excess: 502\n",
      "orig iters: 20, trained iters: 19\n",
      "orig excess: 500, trained_excess: 472\n",
      "orig iters: 12, trained iters: 11\n",
      "orig excess: 500, trained_excess: 298\n",
      "orig iters: 23, trained iters: 17\n",
      "orig excess: 500, trained_excess: 342\n",
      "orig iters: 26, trained iters: 35\n",
      "orig excess: 500, trained_excess: 752\n",
      "orig iters: 13, trained iters: 15\n",
      "orig excess: 500, trained_excess: 434\n",
      "orig iters: 21, trained iters: 18\n",
      "orig excess: 500, trained_excess: 490\n",
      "orig iters: 27, trained iters: 25\n",
      "orig excess: 500, trained_excess: 404\n",
      "Metrics: \n",
      "     Average speedup with learned duals: -3.2615889562876603\n",
      "     Mean excess difference: 29.6\n",
      "\n"
     ]
    }
   ],
   "source": [
    "import importlib\n",
    "import metrics\n",
    "importlib.reload(metrics)\n",
    "from metrics import compute_dataset_metrics\n",
    "\n",
    "from metrics import compute_dataset_metrics\n",
    "\n",
    "test_dataset = MinCostDataset(root = \"./data/data_test\")\n",
    "compute_dataset_metrics(test_dataset, best_model, dataset.raw_dir)"
   ],
   "metadata": {
    "collapsed": false
   }
  },
  {
   "cell_type": "code",
   "execution_count": 16,
   "outputs": [],
   "source": [],
   "metadata": {
    "collapsed": false
   }
  }
 ],
 "metadata": {
  "kernelspec": {
   "display_name": "Python 3",
   "language": "python",
   "name": "python3"
  },
  "language_info": {
   "codemirror_mode": {
    "name": "ipython",
    "version": 3
   },
   "file_extension": ".py",
   "mimetype": "text/x-python",
   "name": "python",
   "nbconvert_exporter": "python",
   "pygments_lexer": "ipython3",
   "version": "3.9.16"
  }
 },
 "nbformat": 4,
 "nbformat_minor": 0
}
