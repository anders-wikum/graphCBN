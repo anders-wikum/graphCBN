{
 "cells": [
  {
   "cell_type": "code",
   "execution_count": 330,
   "id": "951a2452",
   "metadata": {},
   "outputs": [],
   "source": [
    "import numpy as np\n",
    "from typing import Dict, Tuple, List\n",
    "from copy import copy\n",
    "\n",
    "edges = [(0,1), (0,2), (1,2), (1,3), (1,4), (2,3), (2,4), (3,4), (4,2)]\n",
    "capacities = np.array([15, 8, 20, 4, 10, 15, 4, 20, 5])\n",
    "costs = np.array([4, 4, 2, 2, 6, 1, 3, 2, 3])\n",
    "supplies = [20, 0, 0, -5, -15]\n",
    "nodes = [0, 1, 2, 3, 4]\n",
    "\n",
    "# Define an array of supplies at each node.\n",
    "class Network:\n",
    "    def __init__(\n",
    "        self,\n",
    "        nodes: List[object],\n",
    "        edges: List[Tuple[object, object]],\n",
    "        capacities: List[int],\n",
    "        costs: List[int],\n",
    "        supplies: List[int] \n",
    "    ) -> None:\n",
    "        \n",
    "        M = 9999\n",
    "        \n",
    "        self.E = [\n",
    "            *edges,\n",
    "            *[(i, -1) for i in nodes],\n",
    "            *[(-2, i) for i in nodes],\n",
    "            (-1, -2)\n",
    "        ]\n",
    "        self.V = [*nodes, -1, -2]\n",
    "        self.u = {\n",
    "            **dict(zip(edges, capacities)),\n",
    "            **{(i, -1): M for i in nodes},\n",
    "            **{(-2, i): M for i in nodes},\n",
    "            (-1, -2): M\n",
    "        }\n",
    "            \n",
    "        self.c = {\n",
    "            **dict(zip(edges, costs)),\n",
    "            **{(i, -1): 0 for i in nodes},\n",
    "            **{(-2, i): 0 for i in nodes},\n",
    "            (-1, -2): M\n",
    "        }\n",
    "        \n",
    "        self.b = {**dict(zip(nodes, supplies)), -1: 0, -2: 0}\n",
    "        \n",
    "N = Network(nodes, edges, capacities, costs, supplies)     "
   ]
  },
  {
   "cell_type": "code",
   "execution_count": 331,
   "id": "19ea1639",
   "metadata": {},
   "outputs": [],
   "source": [
    "# Adapted from https://gist.github.com/kachayev/5990802\n",
    "\n",
    "from collections import defaultdict\n",
    "from heapq import *\n",
    "\n",
    "def dijkstra(s, t, adj):\n",
    "    def _format_path(lst):\n",
    "        return [(lst[i], lst[i+1]) for i in range(len(lst) - 1)]\n",
    "            \n",
    "            \n",
    "    g = defaultdict(list)\n",
    "    for (i, j), c in adj.items():\n",
    "        g[i].append((j, c))\n",
    "\n",
    "    q, seen, distances = [(0, s, [])], set(), {s: 0}\n",
    "    while q:\n",
    "        cost, v1, path = heappop(q)\n",
    "        if v1 not in seen:\n",
    "            seen.add(v1)\n",
    "            path = [*path, v1]\n",
    "            if v1 == t: \n",
    "                out_path = _format_path(path)\n",
    "\n",
    "            for v2, c in g.get(v1, ()):\n",
    "                if v2 in seen: \n",
    "                    continue\n",
    "                prev = distances.get(v2, None)\n",
    "                nxt = cost + c\n",
    "                if prev is None or nxt < prev:\n",
    "                    distances[v2] = nxt\n",
    "                    heappush(q, (nxt, v2, path))\n",
    "    return distances, out_path"
   ]
  },
  {
   "cell_type": "code",
   "execution_count": 404,
   "id": "0ae6a5de",
   "metadata": {},
   "outputs": [],
   "source": [
    "def excess(N: Network, f: Dict[Tuple[object, object], int]) -> Dict[object, int]:\n",
    "    # Initialize excess to be supply\n",
    "    excess = {v: N.b[v] for v in N.V}\n",
    "    for (u, v), val in f.items():\n",
    "        excess[u] -= val\n",
    "        excess[v] += val\n",
    "        \n",
    "    return excess\n",
    "    \n",
    "def init_costs(N):\n",
    "    c_f = N.u\n",
    "    for (i, j) in c_f.keys():\n",
    "        if (j, i) not in c_f:\n",
    "            c_f[(j, i)] = 0\n",
    "    return c_f\n",
    "\n",
    "def init(N: Network):\n",
    "    f = {e: 0 for e in N.E}\n",
    "    p = {v: 0 for v in N.V}\n",
    "    K = int(np.max(list(N.c.values())))\n",
    "    return f, p, K\n",
    "\n",
    "def reduced_cost(N: Network, u_f, p: Dict[object, int]) -> Dict[Tuple[object, object], int]:\n",
    "    reduced_costs = {}\n",
    "    for (u, v) in u_f.keys():\n",
    "        if (u, v) in N.c:\n",
    "            reduced_costs[(u, v)] = N.c[(u, v)] + p[u] - p[v]\n",
    "        else:\n",
    "            reduced_costs[(u, v)] = -N.c[(v, u)] - p[v] + p[u]\n",
    "    return reduced_costs\n",
    "    \n",
    "\n",
    "def admissible_edges(c_f, K):\n",
    "    return [e for (e, c) in c_f.items() if c >= K]\n",
    "\n",
    "def excess_nodes(e_f, K):\n",
    "    S_f = [i for (i, val) in e_f.items() if val >= K]\n",
    "    T_f = [i for (i, val) in e_f.items() if val <= -K]\n",
    "    return S_f, T_f\n",
    "\n",
    "def update_potentials(p, distances):\n",
    "    for i in p.keys():\n",
    "        p[i] += distances[i]\n",
    "\n",
    "def saturate_neg_cost_admissible(c_p, u_f, f, K) -> N:\n",
    "    ext = {}\n",
    "    for (u, v), c in u_f.items():\n",
    "        if c >= K and c_p[(u,v)] < 0:\n",
    "            f[(u, v)] = N.u[(u, v)]    # Saturate edge\n",
    "            u_f[(u, v)] = 0            # Zero residual in forward direction\n",
    "            ext[(v, u)] = N.u[(u,v)]   # Full residual in backward direction\n",
    "\n",
    "    u_f.update(ext)\n",
    "    \n",
    "def augment_flow_along_path(P, f, u_f, K):\n",
    "    for (i, j) in P:\n",
    "        if (i, j) in f:\n",
    "            f[(i, j)] += K\n",
    "            u_f[(i, j)] -= K\n",
    "            if (j, i) in u_f:\n",
    "                u_f[(j, i)] += K\n",
    "            else:\n",
    "                u_f[(j, i)] = K\n",
    "        else:\n",
    "            f[(j, i)] -= K\n",
    "            u_f[(j, i)] -= K\n",
    "            if (i, j) in u_f:\n",
    "                u_f[(i, j)] += K\n",
    "            else:\n",
    "                u_f[(i, j)] = K\n",
    "    \n",
    "def capacity_scaling(N):\n",
    "    \n",
    "    # Init zero flow and potentials\n",
    "    f, p, K = init(N)\n",
    "    u_f = copy(N.u)\n",
    "    \n",
    "    while K >= 1:\n",
    "        # Compute reduced costs w.r.t potentials p\n",
    "        c_p = reduced_cost(N, u_f, p)\n",
    "        #print(f\"Residual capacities: {u_f}\\n\")\n",
    "        #print(f\"Reduced costs: {c_p}\\n\")\n",
    "        #print(f\"Flow: {f}\\n\")\n",
    "        # Saturate admissible edges with negative reduced cost\n",
    "        saturate_neg_cost_admissible(c_p, u_f, f, K)\n",
    "        \n",
    "        # Compute admissible edges, and surplus/deficit nodes above scaling threshold\n",
    "        e_f = excess(N, f)\n",
    "        S_f, T_f = excess_nodes(e_f, K)  \n",
    "        \n",
    "        while len(S_f) > 0 and len(T_f) > 0:\n",
    "            s = S_f[0]\n",
    "            t = T_f[0]\n",
    "            \n",
    "            adj = {e: c for (e, c) in c_p.items() if u_f[e] >= K}\n",
    "            D, P = dijkstra(s, t, adj)\n",
    "            \n",
    "            update_potentials(p, D)\n",
    "            augment_flow_along_path(P, f, u_f, K)\n",
    "            \n",
    "            e_f = excess(N, f)\n",
    "            S_f, T_f = excess_nodes(e_f, K)    \n",
    "\n",
    "        K //= 2\n",
    "        \n",
    "    return f, p, reduced_cost(N, u_f, p)"
   ]
  },
  {
   "cell_type": "code",
   "execution_count": 405,
   "id": "04c0cd9f",
   "metadata": {},
   "outputs": [],
   "source": [
    "f, p, c_p = capacity_scaling(N)"
   ]
  },
  {
   "cell_type": "code",
   "execution_count": 406,
   "id": "d7841cfd",
   "metadata": {},
   "outputs": [],
   "source": [
    "def feasibility_check(N, f):\n",
    "    assert np.all(np.array(list(excess(N, f).values())) == 0)\n",
    "    assert np.all(np.array(list(f.values())) >= 0)\n",
    "    assert np.all(np.array(list(f.values())) <= np.array(list(N.u.values())))"
   ]
  },
  {
   "cell_type": "code",
   "execution_count": 407,
   "id": "992083bc",
   "metadata": {},
   "outputs": [],
   "source": [
    "def optimality_check(N, f, p):\n",
    "    primal = np.sum([f[(i,j)]*N.c[(i,j)] for (i,j) in N.E])\n",
    "    dual = -np.sum([p[i] * N.b[i] for i in N.V]) - np.sum([N.u[(i,j)] * max(0, p[j] - p[i] - N.c[(i,j)]) for (i,j) in N.E])\n",
    "    assert primal == dual\n",
    "    return primal"
   ]
  },
  {
   "cell_type": "code",
   "execution_count": 408,
   "id": "33fca5bd",
   "metadata": {},
   "outputs": [],
   "source": [
    "feasibility_check(N, f)"
   ]
  },
  {
   "cell_type": "code",
   "execution_count": 409,
   "id": "92897054",
   "metadata": {},
   "outputs": [
    {
     "data": {
      "text/plain": [
       "150"
      ]
     },
     "execution_count": 409,
     "metadata": {},
     "output_type": "execute_result"
    }
   ],
   "source": [
    "optimality_check(N, f, p)"
   ]
  },
  {
   "cell_type": "code",
   "execution_count": 412,
   "id": "708d3337",
   "metadata": {},
   "outputs": [],
   "source": [
    "import networkx as nx"
   ]
  },
  {
   "cell_type": "code",
   "execution_count": 415,
   "id": "5f6b7800",
   "metadata": {},
   "outputs": [],
   "source": [
    "G = nx.DiGraph()\n",
    "G.add_node(\"a\", demand=-5)\n",
    "G.add_node(\"d\", demand=5)\n",
    "G.add_edge(\"a\", \"b\", weight=3, capacity=4)\n",
    "G.add_edge(\"a\", \"c\", weight=6, capacity=10)\n",
    "G.add_edge(\"b\", \"d\", weight=1, capacity=9)\n",
    "G.add_edge(\"c\", \"d\", weight=2, capacity=5)\n",
    "flowCost = nx.min_cost_flow_cost(G)"
   ]
  },
  {
   "cell_type": "code",
   "execution_count": 416,
   "id": "9104061f",
   "metadata": {},
   "outputs": [
    {
     "data": {
      "text/plain": [
       "24"
      ]
     },
     "execution_count": 416,
     "metadata": {},
     "output_type": "execute_result"
    }
   ],
   "source": [
    "flowCost"
   ]
  },
  {
   "cell_type": "code",
   "execution_count": 427,
   "id": "ee7f1f68",
   "metadata": {},
   "outputs": [],
   "source": [
    "list(G.edges)\n",
    "\n",
    "nodes = [0, 1, 2, 3]\n",
    "edges = [(0,1), (0,2), (1,3), (2,3)]\n",
    "capacities = [4, 10, 9, 5]\n",
    "costs = [3, 6, 1, 2]\n",
    "supplies = [5, 0, 0, -5]\n",
    "\n",
    "N = Network(nodes, edges, capacities, costs, supplies)  "
   ]
  },
  {
   "cell_type": "code",
   "execution_count": 428,
   "id": "fed9f1e2",
   "metadata": {},
   "outputs": [],
   "source": [
    "f, p, c_p = capacity_scaling(N)"
   ]
  },
  {
   "cell_type": "code",
   "execution_count": 429,
   "id": "19e6c70e",
   "metadata": {},
   "outputs": [],
   "source": [
    "feasibility_check(N, f)"
   ]
  },
  {
   "cell_type": "code",
   "execution_count": 430,
   "id": "a3c8aa38",
   "metadata": {},
   "outputs": [
    {
     "data": {
      "text/plain": [
       "24"
      ]
     },
     "execution_count": 430,
     "metadata": {},
     "output_type": "execute_result"
    }
   ],
   "source": [
    "optimality_check(N, f, p)"
   ]
  },
  {
   "cell_type": "code",
   "execution_count": 431,
   "id": "a48872ae",
   "metadata": {},
   "outputs": [
    {
     "data": {
      "text/plain": [
       "{(0, 1): 4,\n",
       " (0, 2): 10,\n",
       " (1, 3): 9,\n",
       " (2, 3): 5,\n",
       " (0, -1): 9999,\n",
       " (1, -1): 9999,\n",
       " (2, -1): 9999,\n",
       " (3, -1): 9999,\n",
       " (-2, 0): 9999,\n",
       " (-2, 1): 9999,\n",
       " (-2, 2): 9999,\n",
       " (-2, 3): 9999,\n",
       " (-1, -2): 9999}"
      ]
     },
     "execution_count": 431,
     "metadata": {},
     "output_type": "execute_result"
    }
   ],
   "source": [
    "N.u"
   ]
  },
  {
   "cell_type": "code",
   "execution_count": null,
   "id": "dd758779",
   "metadata": {},
   "outputs": [],
   "source": []
  }
 ],
 "metadata": {
  "kernelspec": {
   "display_name": "Python 3",
   "language": "python",
   "name": "python3"
  },
  "language_info": {
   "codemirror_mode": {
    "name": "ipython",
    "version": 3
   },
   "file_extension": ".py",
   "mimetype": "text/x-python",
   "name": "python",
   "nbconvert_exporter": "python",
   "pygments_lexer": "ipython3",
   "version": "3.7.3"
  }
 },
 "nbformat": 4,
 "nbformat_minor": 5
}
