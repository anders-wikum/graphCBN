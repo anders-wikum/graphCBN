{
 "cells": [
  {
   "cell_type": "code",
   "execution_count": 60,
   "metadata": {
    "colab": {
     "base_uri": "https://localhost:8080/"
    },
    "id": "wxyeSJ7I-QRX",
    "outputId": "d8d734f9-068a-494a-9832-d93a27740711"
   },
   "outputs": [
    {
     "name": "stdout",
     "output_type": "stream",
     "text": [
      "Requirement already satisfied: ipywidgets in /home/alexandre/miniconda3/envs/cs224w/lib/python3.10/site-packages (7.6.5)\r\n",
      "Requirement already satisfied: nbformat>=4.2.0 in /home/alexandre/miniconda3/envs/cs224w/lib/python3.10/site-packages (from ipywidgets) (5.7.0)\r\n",
      "Requirement already satisfied: widgetsnbextension~=3.5.0 in /home/alexandre/miniconda3/envs/cs224w/lib/python3.10/site-packages (from ipywidgets) (3.5.2)\r\n",
      "Requirement already satisfied: ipykernel>=4.5.1 in /home/alexandre/miniconda3/envs/cs224w/lib/python3.10/site-packages (from ipywidgets) (6.19.2)\r\n",
      "Requirement already satisfied: traitlets>=4.3.1 in /home/alexandre/miniconda3/envs/cs224w/lib/python3.10/site-packages (from ipywidgets) (5.7.1)\r\n",
      "Requirement already satisfied: ipython-genutils~=0.2.0 in /home/alexandre/miniconda3/envs/cs224w/lib/python3.10/site-packages (from ipywidgets) (0.2.0)\r\n",
      "Requirement already satisfied: ipython>=4.0.0 in /home/alexandre/miniconda3/envs/cs224w/lib/python3.10/site-packages (from ipywidgets) (8.8.0)\r\n",
      "Requirement already satisfied: jupyterlab-widgets>=1.0.0 in /home/alexandre/miniconda3/envs/cs224w/lib/python3.10/site-packages (from ipywidgets) (1.0.0)\r\n",
      "Requirement already satisfied: packaging in /home/alexandre/miniconda3/envs/cs224w/lib/python3.10/site-packages (from ipykernel>=4.5.1->ipywidgets) (22.0)\r\n",
      "Requirement already satisfied: psutil in /home/alexandre/miniconda3/envs/cs224w/lib/python3.10/site-packages (from ipykernel>=4.5.1->ipywidgets) (5.9.0)\r\n",
      "Requirement already satisfied: tornado>=6.1 in /home/alexandre/miniconda3/envs/cs224w/lib/python3.10/site-packages (from ipykernel>=4.5.1->ipywidgets) (6.2)\r\n",
      "Requirement already satisfied: matplotlib-inline>=0.1 in /home/alexandre/miniconda3/envs/cs224w/lib/python3.10/site-packages (from ipykernel>=4.5.1->ipywidgets) (0.1.6)\r\n",
      "Requirement already satisfied: jupyter-client>=6.1.12 in /home/alexandre/miniconda3/envs/cs224w/lib/python3.10/site-packages (from ipykernel>=4.5.1->ipywidgets) (7.4.8)\r\n",
      "Requirement already satisfied: comm>=0.1.1 in /home/alexandre/miniconda3/envs/cs224w/lib/python3.10/site-packages (from ipykernel>=4.5.1->ipywidgets) (0.1.2)\r\n",
      "Requirement already satisfied: nest-asyncio in /home/alexandre/miniconda3/envs/cs224w/lib/python3.10/site-packages (from ipykernel>=4.5.1->ipywidgets) (1.5.6)\r\n",
      "Requirement already satisfied: debugpy>=1.0 in /home/alexandre/miniconda3/envs/cs224w/lib/python3.10/site-packages (from ipykernel>=4.5.1->ipywidgets) (1.5.1)\r\n",
      "Requirement already satisfied: pyzmq>=17 in /home/alexandre/miniconda3/envs/cs224w/lib/python3.10/site-packages (from ipykernel>=4.5.1->ipywidgets) (23.2.0)\r\n",
      "Requirement already satisfied: jedi>=0.16 in /home/alexandre/miniconda3/envs/cs224w/lib/python3.10/site-packages (from ipython>=4.0.0->ipywidgets) (0.18.1)\r\n",
      "Requirement already satisfied: pexpect>4.3 in /home/alexandre/miniconda3/envs/cs224w/lib/python3.10/site-packages (from ipython>=4.0.0->ipywidgets) (4.8.0)\r\n",
      "Requirement already satisfied: pickleshare in /home/alexandre/miniconda3/envs/cs224w/lib/python3.10/site-packages (from ipython>=4.0.0->ipywidgets) (0.7.5)\r\n",
      "Requirement already satisfied: backcall in /home/alexandre/miniconda3/envs/cs224w/lib/python3.10/site-packages (from ipython>=4.0.0->ipywidgets) (0.2.0)\r\n",
      "Requirement already satisfied: stack-data in /home/alexandre/miniconda3/envs/cs224w/lib/python3.10/site-packages (from ipython>=4.0.0->ipywidgets) (0.2.0)\r\n",
      "Requirement already satisfied: decorator in /home/alexandre/miniconda3/envs/cs224w/lib/python3.10/site-packages (from ipython>=4.0.0->ipywidgets) (5.1.1)\r\n",
      "Requirement already satisfied: prompt-toolkit<3.1.0,>=3.0.11 in /home/alexandre/miniconda3/envs/cs224w/lib/python3.10/site-packages (from ipython>=4.0.0->ipywidgets) (3.0.20)\r\n",
      "Requirement already satisfied: pygments>=2.4.0 in /home/alexandre/miniconda3/envs/cs224w/lib/python3.10/site-packages (from ipython>=4.0.0->ipywidgets) (2.11.2)\r\n",
      "Requirement already satisfied: fastjsonschema in /home/alexandre/miniconda3/envs/cs224w/lib/python3.10/site-packages (from nbformat>=4.2.0->ipywidgets) (2.16.2)\r\n",
      "Requirement already satisfied: jupyter-core in /home/alexandre/miniconda3/envs/cs224w/lib/python3.10/site-packages (from nbformat>=4.2.0->ipywidgets) (5.1.1)\r\n",
      "Requirement already satisfied: jsonschema>=2.6 in /home/alexandre/miniconda3/envs/cs224w/lib/python3.10/site-packages (from nbformat>=4.2.0->ipywidgets) (4.16.0)\r\n",
      "Requirement already satisfied: notebook>=4.4.1 in /home/alexandre/miniconda3/envs/cs224w/lib/python3.10/site-packages (from widgetsnbextension~=3.5.0->ipywidgets) (6.5.2)\r\n",
      "Requirement already satisfied: parso<0.9.0,>=0.8.0 in /home/alexandre/miniconda3/envs/cs224w/lib/python3.10/site-packages (from jedi>=0.16->ipython>=4.0.0->ipywidgets) (0.8.3)\r\n",
      "Requirement already satisfied: pyrsistent!=0.17.0,!=0.17.1,!=0.17.2,>=0.14.0 in /home/alexandre/miniconda3/envs/cs224w/lib/python3.10/site-packages (from jsonschema>=2.6->nbformat>=4.2.0->ipywidgets) (0.18.0)\r\n",
      "Requirement already satisfied: attrs>=17.4.0 in /home/alexandre/miniconda3/envs/cs224w/lib/python3.10/site-packages (from jsonschema>=2.6->nbformat>=4.2.0->ipywidgets) (22.1.0)\r\n",
      "Requirement already satisfied: entrypoints in /home/alexandre/miniconda3/envs/cs224w/lib/python3.10/site-packages (from jupyter-client>=6.1.12->ipykernel>=4.5.1->ipywidgets) (0.4)\r\n",
      "Requirement already satisfied: python-dateutil>=2.8.2 in /home/alexandre/miniconda3/envs/cs224w/lib/python3.10/site-packages (from jupyter-client>=6.1.12->ipykernel>=4.5.1->ipywidgets) (2.8.2)\r\n",
      "Requirement already satisfied: platformdirs>=2.5 in /home/alexandre/miniconda3/envs/cs224w/lib/python3.10/site-packages (from jupyter-core->nbformat>=4.2.0->ipywidgets) (2.5.2)\r\n",
      "Requirement already satisfied: jinja2 in /home/alexandre/miniconda3/envs/cs224w/lib/python3.10/site-packages (from notebook>=4.4.1->widgetsnbextension~=3.5.0->ipywidgets) (3.1.2)\r\n",
      "Requirement already satisfied: nbconvert>=5 in /home/alexandre/miniconda3/envs/cs224w/lib/python3.10/site-packages (from notebook>=4.4.1->widgetsnbextension~=3.5.0->ipywidgets) (6.5.4)\r\n",
      "Requirement already satisfied: prometheus-client in /home/alexandre/miniconda3/envs/cs224w/lib/python3.10/site-packages (from notebook>=4.4.1->widgetsnbextension~=3.5.0->ipywidgets) (0.14.1)\r\n",
      "Requirement already satisfied: Send2Trash>=1.8.0 in /home/alexandre/miniconda3/envs/cs224w/lib/python3.10/site-packages (from notebook>=4.4.1->widgetsnbextension~=3.5.0->ipywidgets) (1.8.0)\r\n",
      "Requirement already satisfied: argon2-cffi in /home/alexandre/miniconda3/envs/cs224w/lib/python3.10/site-packages (from notebook>=4.4.1->widgetsnbextension~=3.5.0->ipywidgets) (21.3.0)\r\n",
      "Requirement already satisfied: terminado>=0.8.3 in /home/alexandre/miniconda3/envs/cs224w/lib/python3.10/site-packages (from notebook>=4.4.1->widgetsnbextension~=3.5.0->ipywidgets) (0.17.1)\r\n",
      "Requirement already satisfied: nbclassic>=0.4.7 in /home/alexandre/miniconda3/envs/cs224w/lib/python3.10/site-packages (from notebook>=4.4.1->widgetsnbextension~=3.5.0->ipywidgets) (0.4.8)\r\n",
      "Requirement already satisfied: ptyprocess>=0.5 in /home/alexandre/miniconda3/envs/cs224w/lib/python3.10/site-packages (from pexpect>4.3->ipython>=4.0.0->ipywidgets) (0.7.0)\r\n",
      "Requirement already satisfied: wcwidth in /home/alexandre/miniconda3/envs/cs224w/lib/python3.10/site-packages (from prompt-toolkit<3.1.0,>=3.0.11->ipython>=4.0.0->ipywidgets) (0.2.5)\r\n",
      "Requirement already satisfied: pure-eval in /home/alexandre/miniconda3/envs/cs224w/lib/python3.10/site-packages (from stack-data->ipython>=4.0.0->ipywidgets) (0.2.2)\r\n",
      "Requirement already satisfied: asttokens in /home/alexandre/miniconda3/envs/cs224w/lib/python3.10/site-packages (from stack-data->ipython>=4.0.0->ipywidgets) (2.0.5)\r\n",
      "Requirement already satisfied: executing in /home/alexandre/miniconda3/envs/cs224w/lib/python3.10/site-packages (from stack-data->ipython>=4.0.0->ipywidgets) (0.8.3)\r\n",
      "Requirement already satisfied: notebook-shim>=0.1.0 in /home/alexandre/miniconda3/envs/cs224w/lib/python3.10/site-packages (from nbclassic>=0.4.7->notebook>=4.4.1->widgetsnbextension~=3.5.0->ipywidgets) (0.2.2)\r\n",
      "Requirement already satisfied: jupyter-server>=1.8 in /home/alexandre/miniconda3/envs/cs224w/lib/python3.10/site-packages (from nbclassic>=0.4.7->notebook>=4.4.1->widgetsnbextension~=3.5.0->ipywidgets) (1.23.4)\r\n",
      "Requirement already satisfied: lxml in /home/alexandre/miniconda3/envs/cs224w/lib/python3.10/site-packages (from nbconvert>=5->notebook>=4.4.1->widgetsnbextension~=3.5.0->ipywidgets) (4.9.1)\r\n",
      "Requirement already satisfied: nbclient>=0.5.0 in /home/alexandre/miniconda3/envs/cs224w/lib/python3.10/site-packages (from nbconvert>=5->notebook>=4.4.1->widgetsnbextension~=3.5.0->ipywidgets) (0.5.13)\r\n",
      "Requirement already satisfied: bleach in /home/alexandre/miniconda3/envs/cs224w/lib/python3.10/site-packages (from nbconvert>=5->notebook>=4.4.1->widgetsnbextension~=3.5.0->ipywidgets) (4.1.0)\r\n",
      "Requirement already satisfied: defusedxml in /home/alexandre/miniconda3/envs/cs224w/lib/python3.10/site-packages (from nbconvert>=5->notebook>=4.4.1->widgetsnbextension~=3.5.0->ipywidgets) (0.7.1)\r\n",
      "Requirement already satisfied: tinycss2 in /home/alexandre/miniconda3/envs/cs224w/lib/python3.10/site-packages (from nbconvert>=5->notebook>=4.4.1->widgetsnbextension~=3.5.0->ipywidgets) (1.2.1)\r\n",
      "Requirement already satisfied: mistune<2,>=0.8.1 in /home/alexandre/miniconda3/envs/cs224w/lib/python3.10/site-packages (from nbconvert>=5->notebook>=4.4.1->widgetsnbextension~=3.5.0->ipywidgets) (0.8.4)\r\n",
      "Requirement already satisfied: beautifulsoup4 in /home/alexandre/miniconda3/envs/cs224w/lib/python3.10/site-packages (from nbconvert>=5->notebook>=4.4.1->widgetsnbextension~=3.5.0->ipywidgets) (4.11.1)\r\n",
      "Requirement already satisfied: jupyterlab-pygments in /home/alexandre/miniconda3/envs/cs224w/lib/python3.10/site-packages (from nbconvert>=5->notebook>=4.4.1->widgetsnbextension~=3.5.0->ipywidgets) (0.1.2)\r\n",
      "Requirement already satisfied: pandocfilters>=1.4.1 in /home/alexandre/miniconda3/envs/cs224w/lib/python3.10/site-packages (from nbconvert>=5->notebook>=4.4.1->widgetsnbextension~=3.5.0->ipywidgets) (1.5.0)\r\n",
      "Requirement already satisfied: MarkupSafe>=2.0 in /home/alexandre/miniconda3/envs/cs224w/lib/python3.10/site-packages (from nbconvert>=5->notebook>=4.4.1->widgetsnbextension~=3.5.0->ipywidgets) (2.1.1)\r\n",
      "Requirement already satisfied: six>=1.5 in /home/alexandre/miniconda3/envs/cs224w/lib/python3.10/site-packages (from python-dateutil>=2.8.2->jupyter-client>=6.1.12->ipykernel>=4.5.1->ipywidgets) (1.16.0)\r\n",
      "Requirement already satisfied: argon2-cffi-bindings in /home/alexandre/miniconda3/envs/cs224w/lib/python3.10/site-packages (from argon2-cffi->notebook>=4.4.1->widgetsnbextension~=3.5.0->ipywidgets) (21.2.0)\r\n",
      "Requirement already satisfied: anyio<4,>=3.1.0 in /home/alexandre/miniconda3/envs/cs224w/lib/python3.10/site-packages (from jupyter-server>=1.8->nbclassic>=0.4.7->notebook>=4.4.1->widgetsnbextension~=3.5.0->ipywidgets) (3.5.0)\r\n",
      "Requirement already satisfied: websocket-client in /home/alexandre/miniconda3/envs/cs224w/lib/python3.10/site-packages (from jupyter-server>=1.8->nbclassic>=0.4.7->notebook>=4.4.1->widgetsnbextension~=3.5.0->ipywidgets) (0.58.0)\r\n",
      "Requirement already satisfied: cffi>=1.0.1 in /home/alexandre/miniconda3/envs/cs224w/lib/python3.10/site-packages (from argon2-cffi-bindings->argon2-cffi->notebook>=4.4.1->widgetsnbextension~=3.5.0->ipywidgets) (1.15.1)\r\n",
      "Requirement already satisfied: soupsieve>1.2 in /home/alexandre/miniconda3/envs/cs224w/lib/python3.10/site-packages (from beautifulsoup4->nbconvert>=5->notebook>=4.4.1->widgetsnbextension~=3.5.0->ipywidgets) (2.3.2.post1)\r\n",
      "Requirement already satisfied: webencodings in /home/alexandre/miniconda3/envs/cs224w/lib/python3.10/site-packages (from bleach->nbconvert>=5->notebook>=4.4.1->widgetsnbextension~=3.5.0->ipywidgets) (0.5.1)\r\n",
      "Requirement already satisfied: sniffio>=1.1 in /home/alexandre/miniconda3/envs/cs224w/lib/python3.10/site-packages (from anyio<4,>=3.1.0->jupyter-server>=1.8->nbclassic>=0.4.7->notebook>=4.4.1->widgetsnbextension~=3.5.0->ipywidgets) (1.2.0)\r\n",
      "Requirement already satisfied: idna>=2.8 in /home/alexandre/miniconda3/envs/cs224w/lib/python3.10/site-packages (from anyio<4,>=3.1.0->jupyter-server>=1.8->nbclassic>=0.4.7->notebook>=4.4.1->widgetsnbextension~=3.5.0->ipywidgets) (3.4)\r\n",
      "Requirement already satisfied: pycparser in /home/alexandre/miniconda3/envs/cs224w/lib/python3.10/site-packages (from cffi>=1.0.1->argon2-cffi-bindings->argon2-cffi->notebook>=4.4.1->widgetsnbextension~=3.5.0->ipywidgets) (2.21)\r\n",
      "Enabling notebook extension jupyter-js-widgets/extension...\r\n",
      "      - Validating: \u001B[32mOK\u001B[0m\r\n",
      "PyTorch has version 1.13.1\n"
     ]
    }
   ],
   "source": [
    "import torch\n",
    "\n",
    "import wget as wget\n",
    "from tqdm.notebook import tqdm\n",
    "\n",
    "\n",
    "from bs4 import BeautifulSoup as bs\n",
    "from urllib.request import urlopen\n",
    "import os\n",
    "\n",
    "!pip install ipywidgets\n",
    "!jupyter nbextension enable --py widgetsnbextension\n",
    "\n",
    "print(\"PyTorch has version {}\".format(torch.__version__))"
   ]
  },
  {
   "cell_type": "code",
   "execution_count": 2,
   "metadata": {
    "id": "DxQqIrWj-Mp4"
   },
   "outputs": [],
   "source": [
    "#!pip install torch-scatter -f https://pytorch-geometric.com/whl/torch-1.13.1+cu116.html\n",
    "#!pip install torch-sparse -f https://pytorch-geometric.com/whl/torch-1.13.1+cu116.html\n",
    "#!pip install torch-geometric\n",
    "#!pip install ogb\n",
    "#!pip install wget"
   ]
  },
  {
   "cell_type": "code",
   "execution_count": 59,
   "metadata": {
    "id": "eVgwvpby_Tt9"
   },
   "outputs": [],
   "source": [
    "\n",
    "\n",
    "def get_graphs(url, folder):\n",
    "  \"\"\"\n",
    "  Inspired by: https://python.plainenglish.io/notesdownloader-use-web-scraping-to-download-all-pdfs-with-python-511ea9f55e48\n",
    "  \"\"\"\n",
    "  if not os.path.exists(folder):\n",
    "    os.makedirs(folder)\n",
    "\n",
    "  links = []\n",
    "  html = urlopen(url).read()\n",
    "  html_page = bs(html, features=\"lxml\") \n",
    "\n",
    "  for link in html_page.find_all('a'):\n",
    "    current_link = link.get('href')\n",
    "\n",
    "    if current_link.endswith('gz'):\n",
    "      links.append(url + current_link)\n",
    "\n",
    "  for link in tqdm(links):\n",
    "    try:\n",
    "      wget.download(link, out = folder)\n",
    "    except:\n",
    "      print(\"Unable to Download A File\")\n",
    "  print(\"File download done!\")"
   ]
  },
  {
   "cell_type": "code",
   "execution_count": 4,
   "metadata": {
    "collapsed": false
   },
   "outputs": [],
   "source": [
    "import gzip\n",
    "import shutil\n",
    "from pathlib import Path\n",
    "\n",
    "\n",
    "def uncompress_files(path, outpath):\n",
    "  \"\"\"\n",
    "  Inspired by https://stackoverflow.com/questions/3548673/how-can-i-replace-or-strip-an-extension-from-a-filename-in-python\n",
    "  and https://stackoverflow.com/questions/31028815/how-to-unzip-gz-file-using-python\n",
    "  \"\"\"\n",
    "  if not os.path.exists(outpath):\n",
    "    os.makedirs(outpath)\n",
    "  for file in tqdm(os.listdir(path)):\n",
    "    if os.path.isdir(os.path.join(path, file)):\n",
    "      continue\n",
    "    new_filename = Path(file)\n",
    "    extensions = \"\".join(new_filename.suffixes)\n",
    "    new_ext = \".txt\"\n",
    "    new_filename = str(new_filename).replace(extensions, new_ext)\n",
    "    new_filename = os.path.join(outpath, new_filename)\n",
    "\n",
    "    with gzip.open(os.path.join(path, file), 'rb') as f_in:\n",
    "        with open(new_filename, 'wb') as f_out:\n",
    "            shutil.copyfileobj(f_in, f_out)"
   ]
  },
  {
   "cell_type": "code",
   "execution_count": 6,
   "metadata": {
    "id": "8lap5Z9cDcaI"
   },
   "outputs": [
    {
     "data": {
      "application/vnd.jupyter.widget-view+json": {
       "model_id": "736de53a70f04903a1e9de18c5aedb5a",
       "version_major": 2,
       "version_minor": 0
      },
      "text/plain": [
       "  0%|          | 0/70 [00:00<?, ?it/s]"
      ]
     },
     "metadata": {},
     "output_type": "display_data"
    },
    {
     "name": "stdout",
     "output_type": "stream",
     "text": [
      "Unable to Download A File\n"
     ]
    }
   ],
   "source": [
    "get_graphs(\"http://lime.cs.elte.hu/~kpeter/data/mcf/road/\", './data/road/compressed')"
   ]
  },
  {
   "cell_type": "code",
   "execution_count": 5,
   "metadata": {
    "colab": {
     "base_uri": "https://localhost:8080/",
     "height": 49,
     "referenced_widgets": [
      "dd8f62c9791142ceb09243e100b304a8",
      "de80017fe6f547fe88b36a9e1954bde1",
      "4b9b945259cb49a2b9ecfe9b84f36700",
      "1193f9b308cb4fabb51cfba1e99cf1dd",
      "0b388112aac14ab2a6acd45ef0660f7f",
      "be54f6e6da264c4f935c90c2e3be539a",
      "48b27c0652cb4c3cb2d12cbaa3be68db",
      "3dadbf5c51784825912d0c3745cd3fc4",
      "615f233f6ec6477981f9fe5de9ff3752",
      "0e69dad0961b49ad976f542873da72ab",
      "8c53cac6583a48febcc425ed92b8b88f"
     ]
    },
    "id": "EhrZ7ZotFr31",
    "outputId": "1d28084d-60a3-4217-9650-65ab100403e1"
   },
   "outputs": [
    {
     "data": {
      "application/vnd.jupyter.widget-view+json": {
       "model_id": "e71e1442485644888dc70144661d2150",
       "version_major": 2,
       "version_minor": 0
      },
      "text/plain": [
       "  0%|          | 0/40 [00:00<?, ?it/s]"
      ]
     },
     "metadata": {},
     "output_type": "display_data"
    }
   ],
   "source": [
    "uncompress_files('./data/road/compressed', './resources')"
   ]
  },
  {
   "cell_type": "code",
   "execution_count": 61,
   "metadata": {
    "id": "JEwpnLkKRQir"
   },
   "outputs": [],
   "source": [
    "import os.path as osp\n",
    "\n",
    "import torch\n",
    "from torch_geometric.data import Data, Dataset\n",
    "from data_parsing import process_file\n",
    "\n",
    "\n",
    "class MinCostDataset(Dataset):\n",
    "    def __init__(self, root, transform=None, pre_transform=None, pre_filter=None):\n",
    "        super().__init__(root, transform, pre_transform, pre_filter)\n",
    "\n",
    "    @property\n",
    "    def raw_file_names(self):\n",
    "        \"\"\"If these files are found in the raw directory, download is skipped\"\"\"\n",
    "        return []\n",
    "\n",
    "    @property\n",
    "    def processed_file_names(self):\n",
    "        \"\"\"If these files are found in the processed directory, processing is skipped\"\"\"\n",
    "        processed_files = []\n",
    "        path = self.processed_dir\n",
    "        for file in tqdm(os.listdir(path)):\n",
    "            file_path = os.path.join(path, file)\n",
    "            if not os.path.isdir(file_path) and not file == \"pre_filter.pt\" and not file == \"pre_transform.pt\":\n",
    "                processed_files.append(file)\n",
    "\n",
    "        return processed_files\n",
    "\n",
    "    def download(self):\n",
    "        pass\n",
    "\n",
    "    def process(self):\n",
    "        idx = 0\n",
    "        path = self.raw_dir\n",
    "        for file in tqdm(os.listdir(path)):\n",
    "            print(file)\n",
    "            file_path = os.path.join(path, file)\n",
    "            if os.path.isdir(file_path):\n",
    "                continue\n",
    "            # Read data from `raw_path`.\n",
    "            output = process_file(file_path, \"cbn\")\n",
    "            if output[\"converged\"]:\n",
    "                x = output[\"x\"]\n",
    "                edge_index = output[\"edge_index\"]\n",
    "                edge_attr = output[\"edge_attr\"]\n",
    "                y = output[\"y\"]\n",
    "                data = Data(x = x, edge_index = edge_index, edge_attr = edge_attr, y = y, filename = file_path)\n",
    "\n",
    "                torch.save(data, osp.join(self.processed_dir, f'data_{idx}.pt'))\n",
    "                idx += 1\n",
    "\n",
    "    def len(self):\n",
    "        return len(self.processed_file_names)\n",
    "\n",
    "    def get(self, idx):\n",
    "        data = torch.load(osp.join(self.processed_dir, f'data_{idx}.pt'))\n",
    "        return data"
   ]
  },
  {
   "cell_type": "code",
   "execution_count": 62,
   "metadata": {
    "collapsed": false
   },
   "outputs": [
    {
     "data": {
      "text/plain": "  0%|          | 0/134 [00:00<?, ?it/s]",
      "application/vnd.jupyter.widget-view+json": {
       "version_major": 2,
       "version_minor": 0,
       "model_id": "55ad2309c81b44b2a9a90a045da338cb"
      }
     },
     "metadata": {},
     "output_type": "display_data"
    }
   ],
   "source": [
    "dataset = MinCostDataset(root = \"./data/\")"
   ]
  },
  {
   "cell_type": "code",
   "execution_count": 63,
   "metadata": {
    "collapsed": false
   },
   "outputs": [
    {
     "data": {
      "text/plain": "  0%|          | 0/134 [00:00<?, ?it/s]",
      "application/vnd.jupyter.widget-view+json": {
       "version_major": 2,
       "version_minor": 0,
       "model_id": "7df0c5de818649559e60d413194b85dc"
      }
     },
     "metadata": {},
     "output_type": "display_data"
    },
    {
     "data": {
      "text/plain": "  0%|          | 0/134 [00:00<?, ?it/s]",
      "application/vnd.jupyter.widget-view+json": {
       "version_major": 2,
       "version_minor": 0,
       "model_id": "20bb2140f825424f8cdf7b6328871e68"
      }
     },
     "metadata": {},
     "output_type": "display_data"
    },
    {
     "name": "stdout",
     "output_type": "stream",
     "text": [
      "MinCostDataset(132)\n"
     ]
    }
   ],
   "source": [
    "print(dataset)"
   ]
  },
  {
   "cell_type": "code",
   "execution_count": 64,
   "metadata": {
    "collapsed": false
   },
   "outputs": [
    {
     "data": {
      "text/plain": "  0%|          | 0/134 [00:00<?, ?it/s]",
      "application/vnd.jupyter.widget-view+json": {
       "version_major": 2,
       "version_minor": 0,
       "model_id": "10f1c2818f6b4ccba70b02e2172e136d"
      }
     },
     "metadata": {},
     "output_type": "display_data"
    }
   ],
   "source": [
    "def i_messed_up(dataset, idx):\n",
    "    data = dataset.get(idx)\n",
    "    #data.edge_index = torch.reshape(data.edge_index, (-1, 2)).T\n",
    "    #data.edge_attr = torch.reshape(data.edge_attr, (-1, 2))\n",
    "    #data.x = torch.reshape(data.x, (-1,1))\n",
    "    # data.x = data.x.type(torch.float32)\n",
    "    torch.save(data, osp.join(dataset.processed_dir, f'data_{idx}.pt'))\n",
    "for i in range(dataset.len()):\n",
    "    i_messed_up(dataset, i)"
   ]
  },
  {
   "cell_type": "code",
   "execution_count": 65,
   "outputs": [
    {
     "data": {
      "text/plain": "  0%|          | 0/134 [00:00<?, ?it/s]",
      "application/vnd.jupyter.widget-view+json": {
       "version_major": 2,
       "version_minor": 0,
       "model_id": "93070cb9148e42ae86d3e465019bc8be"
      }
     },
     "metadata": {},
     "output_type": "display_data"
    },
    {
     "data": {
      "text/plain": "tensor([[  16,   17,   18,  ..., 9556, 9556, 9558],\n        [  17,   16,   16,  ..., 9557, 9558, 9556]])"
     },
     "execution_count": 65,
     "metadata": {},
     "output_type": "execute_result"
    }
   ],
   "source": [
    "dataset[0].edge_index"
   ],
   "metadata": {
    "collapsed": false
   }
  },
  {
   "cell_type": "code",
   "execution_count": 72,
   "outputs": [],
   "source": [
    "import importlib\n",
    "import data_parsing\n",
    "importlib.reload(data_parsing)\n",
    "processed = data_parsing.process_file(\"./data/raw/road_paths_01_DC_a.txt\", \"cbn\")"
   ],
   "metadata": {
    "collapsed": false
   }
  },
  {
   "cell_type": "code",
   "execution_count": 75,
   "outputs": [
    {
     "data": {
      "text/plain": "tensor([[  17,   18,   19,  ..., 9556, 9556, 9558],\n        [  18,   17,   17,  ..., 9557, 9558, 9556]])"
     },
     "execution_count": 75,
     "metadata": {},
     "output_type": "execute_result"
    }
   ],
   "source": [
    "processed[\"edge_index\"]"
   ],
   "metadata": {
    "collapsed": false
   }
  },
  {
   "cell_type": "code",
   "execution_count": 74,
   "outputs": [
    {
     "data": {
      "text/plain": "tensor([[  1.,  42.],\n        [  1.,  42.],\n        [  1.,  60.],\n        ...,\n        [  1., 452.],\n        [  1., 231.],\n        [  1., 231.]])"
     },
     "execution_count": 74,
     "metadata": {},
     "output_type": "execute_result"
    }
   ],
   "source": [
    "processed[\"edge_attr\"]"
   ],
   "metadata": {
    "collapsed": false
   }
  },
  {
   "cell_type": "code",
   "execution_count": null,
   "outputs": [],
   "source": [],
   "metadata": {
    "collapsed": false
   }
  }
 ],
 "metadata": {
  "colab": {
   "provenance": []
  },
  "kernelspec": {
   "display_name": "Python 3",
   "name": "python3"
  },
  "language_info": {
   "codemirror_mode": {
    "name": "ipython",
    "version": 3
   },
   "file_extension": ".py",
   "mimetype": "text/x-python",
   "name": "python",
   "nbconvert_exporter": "python",
   "pygments_lexer": "ipython3",
   "version": "3.9.16"
  },
  "widgets": {
   "application/vnd.jupyter.widget-state+json": {
    "0b388112aac14ab2a6acd45ef0660f7f": {
     "model_module": "@jupyter-widgets/base",
     "model_module_version": "1.2.0",
     "model_name": "LayoutModel",
     "state": {
      "_model_module": "@jupyter-widgets/base",
      "_model_module_version": "1.2.0",
      "_model_name": "LayoutModel",
      "_view_count": null,
      "_view_module": "@jupyter-widgets/base",
      "_view_module_version": "1.2.0",
      "_view_name": "LayoutView",
      "align_content": null,
      "align_items": null,
      "align_self": null,
      "border": null,
      "bottom": null,
      "display": null,
      "flex": null,
      "flex_flow": null,
      "grid_area": null,
      "grid_auto_columns": null,
      "grid_auto_flow": null,
      "grid_auto_rows": null,
      "grid_column": null,
      "grid_gap": null,
      "grid_row": null,
      "grid_template_areas": null,
      "grid_template_columns": null,
      "grid_template_rows": null,
      "height": null,
      "justify_content": null,
      "justify_items": null,
      "left": null,
      "margin": null,
      "max_height": null,
      "max_width": null,
      "min_height": null,
      "min_width": null,
      "object_fit": null,
      "object_position": null,
      "order": null,
      "overflow": null,
      "overflow_x": null,
      "overflow_y": null,
      "padding": null,
      "right": null,
      "top": null,
      "visibility": null,
      "width": null
     }
    },
    "0e69dad0961b49ad976f542873da72ab": {
     "model_module": "@jupyter-widgets/base",
     "model_module_version": "1.2.0",
     "model_name": "LayoutModel",
     "state": {
      "_model_module": "@jupyter-widgets/base",
      "_model_module_version": "1.2.0",
      "_model_name": "LayoutModel",
      "_view_count": null,
      "_view_module": "@jupyter-widgets/base",
      "_view_module_version": "1.2.0",
      "_view_name": "LayoutView",
      "align_content": null,
      "align_items": null,
      "align_self": null,
      "border": null,
      "bottom": null,
      "display": null,
      "flex": null,
      "flex_flow": null,
      "grid_area": null,
      "grid_auto_columns": null,
      "grid_auto_flow": null,
      "grid_auto_rows": null,
      "grid_column": null,
      "grid_gap": null,
      "grid_row": null,
      "grid_template_areas": null,
      "grid_template_columns": null,
      "grid_template_rows": null,
      "height": null,
      "justify_content": null,
      "justify_items": null,
      "left": null,
      "margin": null,
      "max_height": null,
      "max_width": null,
      "min_height": null,
      "min_width": null,
      "object_fit": null,
      "object_position": null,
      "order": null,
      "overflow": null,
      "overflow_x": null,
      "overflow_y": null,
      "padding": null,
      "right": null,
      "top": null,
      "visibility": null,
      "width": null
     }
    },
    "1193f9b308cb4fabb51cfba1e99cf1dd": {
     "model_module": "@jupyter-widgets/controls",
     "model_module_version": "1.5.0",
     "model_name": "HTMLModel",
     "state": {
      "_dom_classes": [],
      "_model_module": "@jupyter-widgets/controls",
      "_model_module_version": "1.5.0",
      "_model_name": "HTMLModel",
      "_view_count": null,
      "_view_module": "@jupyter-widgets/controls",
      "_view_module_version": "1.5.0",
      "_view_name": "HTMLView",
      "description": "",
      "description_tooltip": null,
      "layout": "IPY_MODEL_0e69dad0961b49ad976f542873da72ab",
      "placeholder": "​",
      "style": "IPY_MODEL_8c53cac6583a48febcc425ed92b8b88f",
      "value": " 71/71 [00:25&lt;00:00,  2.27it/s]"
     }
    },
    "3dadbf5c51784825912d0c3745cd3fc4": {
     "model_module": "@jupyter-widgets/base",
     "model_module_version": "1.2.0",
     "model_name": "LayoutModel",
     "state": {
      "_model_module": "@jupyter-widgets/base",
      "_model_module_version": "1.2.0",
      "_model_name": "LayoutModel",
      "_view_count": null,
      "_view_module": "@jupyter-widgets/base",
      "_view_module_version": "1.2.0",
      "_view_name": "LayoutView",
      "align_content": null,
      "align_items": null,
      "align_self": null,
      "border": null,
      "bottom": null,
      "display": null,
      "flex": null,
      "flex_flow": null,
      "grid_area": null,
      "grid_auto_columns": null,
      "grid_auto_flow": null,
      "grid_auto_rows": null,
      "grid_column": null,
      "grid_gap": null,
      "grid_row": null,
      "grid_template_areas": null,
      "grid_template_columns": null,
      "grid_template_rows": null,
      "height": null,
      "justify_content": null,
      "justify_items": null,
      "left": null,
      "margin": null,
      "max_height": null,
      "max_width": null,
      "min_height": null,
      "min_width": null,
      "object_fit": null,
      "object_position": null,
      "order": null,
      "overflow": null,
      "overflow_x": null,
      "overflow_y": null,
      "padding": null,
      "right": null,
      "top": null,
      "visibility": null,
      "width": null
     }
    },
    "48b27c0652cb4c3cb2d12cbaa3be68db": {
     "model_module": "@jupyter-widgets/controls",
     "model_module_version": "1.5.0",
     "model_name": "DescriptionStyleModel",
     "state": {
      "_model_module": "@jupyter-widgets/controls",
      "_model_module_version": "1.5.0",
      "_model_name": "DescriptionStyleModel",
      "_view_count": null,
      "_view_module": "@jupyter-widgets/base",
      "_view_module_version": "1.2.0",
      "_view_name": "StyleView",
      "description_width": ""
     }
    },
    "4b9b945259cb49a2b9ecfe9b84f36700": {
     "model_module": "@jupyter-widgets/controls",
     "model_module_version": "1.5.0",
     "model_name": "FloatProgressModel",
     "state": {
      "_dom_classes": [],
      "_model_module": "@jupyter-widgets/controls",
      "_model_module_version": "1.5.0",
      "_model_name": "FloatProgressModel",
      "_view_count": null,
      "_view_module": "@jupyter-widgets/controls",
      "_view_module_version": "1.5.0",
      "_view_name": "ProgressView",
      "bar_style": "success",
      "description": "",
      "description_tooltip": null,
      "layout": "IPY_MODEL_3dadbf5c51784825912d0c3745cd3fc4",
      "max": 71,
      "min": 0,
      "orientation": "horizontal",
      "style": "IPY_MODEL_615f233f6ec6477981f9fe5de9ff3752",
      "value": 71
     }
    },
    "615f233f6ec6477981f9fe5de9ff3752": {
     "model_module": "@jupyter-widgets/controls",
     "model_module_version": "1.5.0",
     "model_name": "ProgressStyleModel",
     "state": {
      "_model_module": "@jupyter-widgets/controls",
      "_model_module_version": "1.5.0",
      "_model_name": "ProgressStyleModel",
      "_view_count": null,
      "_view_module": "@jupyter-widgets/base",
      "_view_module_version": "1.2.0",
      "_view_name": "StyleView",
      "bar_color": null,
      "description_width": ""
     }
    },
    "8c53cac6583a48febcc425ed92b8b88f": {
     "model_module": "@jupyter-widgets/controls",
     "model_module_version": "1.5.0",
     "model_name": "DescriptionStyleModel",
     "state": {
      "_model_module": "@jupyter-widgets/controls",
      "_model_module_version": "1.5.0",
      "_model_name": "DescriptionStyleModel",
      "_view_count": null,
      "_view_module": "@jupyter-widgets/base",
      "_view_module_version": "1.2.0",
      "_view_name": "StyleView",
      "description_width": ""
     }
    },
    "be54f6e6da264c4f935c90c2e3be539a": {
     "model_module": "@jupyter-widgets/base",
     "model_module_version": "1.2.0",
     "model_name": "LayoutModel",
     "state": {
      "_model_module": "@jupyter-widgets/base",
      "_model_module_version": "1.2.0",
      "_model_name": "LayoutModel",
      "_view_count": null,
      "_view_module": "@jupyter-widgets/base",
      "_view_module_version": "1.2.0",
      "_view_name": "LayoutView",
      "align_content": null,
      "align_items": null,
      "align_self": null,
      "border": null,
      "bottom": null,
      "display": null,
      "flex": null,
      "flex_flow": null,
      "grid_area": null,
      "grid_auto_columns": null,
      "grid_auto_flow": null,
      "grid_auto_rows": null,
      "grid_column": null,
      "grid_gap": null,
      "grid_row": null,
      "grid_template_areas": null,
      "grid_template_columns": null,
      "grid_template_rows": null,
      "height": null,
      "justify_content": null,
      "justify_items": null,
      "left": null,
      "margin": null,
      "max_height": null,
      "max_width": null,
      "min_height": null,
      "min_width": null,
      "object_fit": null,
      "object_position": null,
      "order": null,
      "overflow": null,
      "overflow_x": null,
      "overflow_y": null,
      "padding": null,
      "right": null,
      "top": null,
      "visibility": null,
      "width": null
     }
    },
    "dd8f62c9791142ceb09243e100b304a8": {
     "model_module": "@jupyter-widgets/controls",
     "model_module_version": "1.5.0",
     "model_name": "HBoxModel",
     "state": {
      "_dom_classes": [],
      "_model_module": "@jupyter-widgets/controls",
      "_model_module_version": "1.5.0",
      "_model_name": "HBoxModel",
      "_view_count": null,
      "_view_module": "@jupyter-widgets/controls",
      "_view_module_version": "1.5.0",
      "_view_name": "HBoxView",
      "box_style": "",
      "children": [
       "IPY_MODEL_de80017fe6f547fe88b36a9e1954bde1",
       "IPY_MODEL_4b9b945259cb49a2b9ecfe9b84f36700",
       "IPY_MODEL_1193f9b308cb4fabb51cfba1e99cf1dd"
      ],
      "layout": "IPY_MODEL_0b388112aac14ab2a6acd45ef0660f7f"
     }
    },
    "de80017fe6f547fe88b36a9e1954bde1": {
     "model_module": "@jupyter-widgets/controls",
     "model_module_version": "1.5.0",
     "model_name": "HTMLModel",
     "state": {
      "_dom_classes": [],
      "_model_module": "@jupyter-widgets/controls",
      "_model_module_version": "1.5.0",
      "_model_name": "HTMLModel",
      "_view_count": null,
      "_view_module": "@jupyter-widgets/controls",
      "_view_module_version": "1.5.0",
      "_view_name": "HTMLView",
      "description": "",
      "description_tooltip": null,
      "layout": "IPY_MODEL_be54f6e6da264c4f935c90c2e3be539a",
      "placeholder": "​",
      "style": "IPY_MODEL_48b27c0652cb4c3cb2d12cbaa3be68db",
      "value": "100%"
     }
    }
   }
  }
 },
 "nbformat": 4,
 "nbformat_minor": 0
}
