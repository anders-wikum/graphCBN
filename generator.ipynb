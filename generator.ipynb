{
 "cells": [
  {
   "cell_type": "code",
   "execution_count": 2,
   "metadata": {},
   "outputs": [],
   "source": [
    "from pynetgen import netgen_generate\n",
    "import numpy as np"
   ]
  },
  {
   "cell_type": "code",
   "execution_count": 3,
   "metadata": {},
   "outputs": [],
   "source": [
    "num = 100\n",
    "n = 20\n",
    "s = 3\n",
    "t = 3\n",
    "supply = 100\n",
    "max_cost = 10\n",
    "max_cap = 50\n",
    "seeds = np.arange(num)\n",
    "\n",
    "def build_schematics(num, n, s, t, supply, max_cost, max_cap, seeds):\n",
    "    return [\n",
    "        {\n",
    "            'seed': seeds[i],\n",
    "            'nodes': n,\n",
    "            'sources': s,\n",
    "            'sinks': t,\n",
    "            'density': n**1.4,\n",
    "            'mincost': 1,\n",
    "            'maxcost': max_cost,\n",
    "            'supply': supply,\n",
    "            'mincap': 1,\n",
    "            'maxcap': max_cap,\n",
    "            'fname' : f'./data/raw/netgen_{i}.txt'\n",
    "        }\n",
    "        for i in range(num)\n",
    "    ]\n",
    "\n",
    "schematic_seq = build_schematics(num, n, s, t, supply, max_cost, max_cap, seeds)\n",
    "\n",
    "\n",
    "for schematic in schematic_seq:\n",
    "    netgen_generate(**schematic)\n"
   ]
  },
  {
   "cell_type": "code",
   "execution_count": null,
   "outputs": [],
   "source": [],
   "metadata": {
    "collapsed": false
   }
  }
 ],
 "metadata": {
  "kernelspec": {
   "display_name": "base",
   "language": "python",
   "name": "python3"
  },
  "language_info": {
   "codemirror_mode": {
    "name": "ipython",
    "version": 3
   },
   "file_extension": ".py",
   "mimetype": "text/x-python",
   "name": "python",
   "nbconvert_exporter": "python",
   "pygments_lexer": "ipython3",
   "version": "3.9.16"
  },
  "orig_nbformat": 4
 },
 "nbformat": 4,
 "nbformat_minor": 2
}
