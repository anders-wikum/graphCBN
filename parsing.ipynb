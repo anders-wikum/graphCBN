{
 "cells": [
  {
   "cell_type": "code",
   "execution_count": 11,
   "id": "incident-jurisdiction",
   "metadata": {
    "scrolled": true
   },
   "outputs": [],
   "source": [
    "from ipynb.fs.full.capacity_scaling import Network, capacity_scaling"
   ]
  },
  {
   "cell_type": "code",
   "execution_count": 12,
   "id": "statutory-spice",
   "metadata": {},
   "outputs": [],
   "source": [
    "def parse(filename) -> Network:\n",
    "    \"\"\"\n",
    "    Parses a network file following the DIMACS problem specification \n",
    "    structure and transforms it into a Network object\n",
    "    \n",
    "    Some elements of the specification:\n",
    "    - Lines starting in c are comments\n",
    "    - Lines starting in p explain what problem to solve (can be ignored, \n",
    "      we only consider minimum-cost flow problems)\n",
    "    - Lines starting in n define nodes\n",
    "    - Lines starting in a define arcs (edges)\n",
    "    \n",
    "    Args:\n",
    "        filename: name of the file containing the network data\n",
    "        \n",
    "    Returns:\n",
    "        The corresponding Network object\n",
    "    \"\"\"\n",
    "    # Lines we can ignore\n",
    "    ignore_list = ['c', 'p']\n",
    "    \n",
    "    file = open(filename, 'r')\n",
    "    \n",
    "    # Nodes is a hashmap from node values to their supply\n",
    "    nodes = {}\n",
    "    # Edges is a hashmap from edges to a tuple with their capacity and cost\n",
    "    edges = {}\n",
    "    \n",
    "    for line in file:\n",
    "        if len(line) > 0 and line[0] not in ignore_list:\n",
    "            if line[0] == 'n':\n",
    "                # Node parsing\n",
    "                node = [int(elem) for elem in line.split(' ')[1:]]\n",
    "                nodes[node[0]] = node[1]\n",
    "            elif line[0] == 'a':\n",
    "                arc = [int(elem) for elem in line.split(' ')[1:]]\n",
    "                node1 = arc[0]\n",
    "                node2 = arc[1]\n",
    "                capacity = arc[3]\n",
    "                cost = arc[4]\n",
    "                \n",
    "                # Only nodes with non-zero supply are in a \"node line\"\n",
    "                if node1 not in nodes:\n",
    "                    nodes[node1] = 0\n",
    "                if node2 not in nodes:\n",
    "                    nodes[node2] = 0\n",
    "                if (node1, node2) in edges:\n",
    "                    # TODO not amazing (reaverages every time)\n",
    "                    old_capacity, old_cost = edges[(node1, node2)]\n",
    "                    new_cost = old_cost * old_capacity + cost * capacity\n",
    "                    new_cost /= (old_capacity + capacity)\n",
    "                    edges[(node1, node2)] = (old_capacity + capacity, new_cost)\n",
    "                else:\n",
    "                    edges[(node1, node2)] = (capacity, cost)\n",
    "    file.close()\n",
    "    \n",
    "    capacities, costs = zip(*edges.values())\n",
    "    network = Network(nodes.keys(), edges.keys(), capacities, costs, nodes.values()) \n",
    "    \n",
    "    print(f\"This dataset contains: {len(nodes.keys())} nodes and {len(edges.keys())} edges\")\n",
    "\n",
    "    return network"
   ]
  },
  {
   "cell_type": "code",
   "execution_count": 13,
   "id": "steady-equality",
   "metadata": {},
   "outputs": [
    {
     "name": "stdout",
     "output_type": "stream",
     "text": [
      "This dataset contains: 9559 nodes and 29682 edges\n"
     ]
    }
   ],
   "source": [
    "network = parse(\"resources/road_flow_01_DC_a.txt\")"
   ]
  },
  {
   "cell_type": "code",
   "execution_count": 9,
   "id": "fresh-heading",
   "metadata": {},
   "outputs": [
    {
     "name": "stdout",
     "output_type": "stream",
     "text": [
      "Number of flow updates: 595\n"
     ]
    }
   ],
   "source": [
    "p = {v: 0 for v in network.V}\n",
    "f, p = capacity_scaling(network, p)"
   ]
  }
 ],
 "metadata": {
  "kernelspec": {
   "display_name": "Python 3",
   "language": "python",
   "name": "python3"
  },
  "language_info": {
   "codemirror_mode": {
    "name": "ipython",
    "version": 3
   },
   "file_extension": ".py",
   "mimetype": "text/x-python",
   "name": "python",
   "nbconvert_exporter": "python",
   "pygments_lexer": "ipython3",
   "version": "3.8.3"
  }
 },
 "nbformat": 4,
 "nbformat_minor": 5
}
